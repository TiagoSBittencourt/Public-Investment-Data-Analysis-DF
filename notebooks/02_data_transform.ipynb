{
 "cells": [
  {
   "cell_type": "markdown",
   "id": "c9fbd8e5",
   "metadata": {},
   "source": [
    "# 02_data_transform.ipynb — Transformação de Dados\n",
    "\n",
    "## 1. Sobre\n",
    "\n",
    "### 1.1 Visão Geral\n",
    "\n",
    "Este notebook consome o arquivo JSON gerado pelo notebook de extração (`01_data_extraction.ipynb`) e aplica inspeção, normalização de nomes de colunas, conversões de tipo e limpeza. O objetivo é produzir tabelas processadas e tipadas em `data/processed/` prontos para carga em banco de dados ou análises posteriores.\n",
    "\n",
    "Organização do notebook:\n",
    "- Imports e ambiente;\n",
    "- Utilitários de normalização de nomes;\n",
    "- Leitura segura do JSON bruto;\n",
    "- Inspeção inicial e detecção de tipos;\n",
    "- Conversões de tipos (datas, numéricos, booleanos, strings);\n",
    "- Normalização e flatten de colunas aninhadas (listas de dicionários);\n",
    "- Limpeza adicional (remoção de colunas esparsas, resumo de listas);\n",
    "- Persistência em Parquet/JSON."
   ]
  },
  {
   "cell_type": "markdown",
   "id": "461b456c",
   "metadata": {},
   "source": [
    "### 1.1 Visão Técnica\n",
    "\n",
    "Este notebook carrega o JSON bruto produzido na etapa de extração e realiza transformações controladas e documentadas para produzir os artefatos processados. Abaixo estão as práticas aplicadas e o comportamento esperado em cada etapa.\n",
    "\n",
    "Boas práticas aplicadas:\n",
    "- Leitura tolerante (fallback quando `pd.read_json` falha);\n",
    "- Normalização consistente de nomes (utilitário `normalize_columns`);\n",
    "- Conversões de tipo explícitas com `errors='coerce'` para segurança;\n",
    "- Redução de complexidade em colunas aninhadas (explode + `pd.json_normalize`);\n",
    "- Persistência em `parquet` para eficiência e preservação de tipos."
   ]
  },
  {
   "cell_type": "code",
   "execution_count": 83,
   "id": "bfe96885",
   "metadata": {},
   "outputs": [
    {
     "data": {
      "text/plain": [
       "True"
      ]
     },
     "execution_count": 83,
     "metadata": {},
     "output_type": "execute_result"
    }
   ],
   "source": [
    "import os\n",
    "import sys\n",
    "from pathlib import Path\n",
    "import pandas as pd\n",
    "import json\n",
    "import numpy as np\n",
    "import re\n",
    "from dotenv import load_dotenv\n",
    "import plotly.express as px\n",
    "\n",
    "# Garante que a raiz do projeto esteja no sys.path (mesma abordagem do notebook 01)\n",
    "project_root = Path(os.getcwd()).resolve().parents[0]\n",
    "if str(project_root) not in sys.path:\n",
    "    sys.path.append(str(project_root))\n",
    "\n",
    "from src.normalizers.col_normalizer import normalize_cols_names, normalize_cols_multivalorada\n",
    "\n",
    "load_dotenv()"
   ]
  },
  {
   "cell_type": "markdown",
   "id": "7ea88ae1",
   "metadata": {},
   "source": [
    "## 2. Carrega Dados\n",
    "\n",
    "Carregar os dados brutos extraidos no notebook `01_data_extraction.ipynb`. Fonte: `data/raw/dados_obras_gov.json`."
   ]
  },
  {
   "cell_type": "code",
   "execution_count": 84,
   "id": "5e07cbb4",
   "metadata": {},
   "outputs": [
    {
     "name": "stdout",
     "output_type": "stream",
     "text": [
      "Raw path: E:\\VS-Code\\Lappis-PS\\data\\raw\\dados_obras_gov.json\n",
      "Processed dir: E:\\VS-Code\\Lappis-PS\\data\\processed\n",
      "Dados carregados: rows= 834\n"
     ]
    },
    {
     "data": {
      "text/html": [
       "<div>\n",
       "<style scoped>\n",
       "    .dataframe tbody tr th:only-of-type {\n",
       "        vertical-align: middle;\n",
       "    }\n",
       "\n",
       "    .dataframe tbody tr th {\n",
       "        vertical-align: top;\n",
       "    }\n",
       "\n",
       "    .dataframe thead th {\n",
       "        text-align: right;\n",
       "    }\n",
       "</style>\n",
       "<table border=\"1\" class=\"dataframe\">\n",
       "  <thead>\n",
       "    <tr style=\"text-align: right;\">\n",
       "      <th></th>\n",
       "      <th>idUnico</th>\n",
       "      <th>nome</th>\n",
       "      <th>cep</th>\n",
       "      <th>endereco</th>\n",
       "      <th>descricao</th>\n",
       "      <th>funcaoSocial</th>\n",
       "      <th>metaGlobal</th>\n",
       "      <th>dataInicialPrevista</th>\n",
       "      <th>dataFinalPrevista</th>\n",
       "      <th>dataInicialEfetiva</th>\n",
       "      <th>...</th>\n",
       "      <th>observacoesPertinentes</th>\n",
       "      <th>isModeladaPorBim</th>\n",
       "      <th>dataSituacao</th>\n",
       "      <th>tomadores</th>\n",
       "      <th>executores</th>\n",
       "      <th>repassadores</th>\n",
       "      <th>eixos</th>\n",
       "      <th>tipos</th>\n",
       "      <th>subTipos</th>\n",
       "      <th>fontesDeRecurso</th>\n",
       "    </tr>\n",
       "  </thead>\n",
       "  <tbody>\n",
       "    <tr>\n",
       "      <th>0</th>\n",
       "      <td>50379.53-54</td>\n",
       "      <td>DL - 304/2024 - Contratação de instituição par...</td>\n",
       "      <td>None</td>\n",
       "      <td>None</td>\n",
       "      <td>Contratação de instituição para execução de se...</td>\n",
       "      <td>Ampliação da capacidade de trafego visando a m...</td>\n",
       "      <td>Projetos Básicos e Executivos de Engenharia</td>\n",
       "      <td>2024-12-20</td>\n",
       "      <td>2027-12-05</td>\n",
       "      <td>None</td>\n",
       "      <td>...</td>\n",
       "      <td>None</td>\n",
       "      <td>0.0</td>\n",
       "      <td>2024-12-20</td>\n",
       "      <td>[]</td>\n",
       "      <td>[{'nome': 'DEPARTAMENTO NACIONAL DE INFRAESTRU...</td>\n",
       "      <td>[]</td>\n",
       "      <td>[{'id': 3, 'descricao': 'Econômico'}]</td>\n",
       "      <td>[{'id': 25, 'descricao': 'Rodovia', 'idEixo': 3}]</td>\n",
       "      <td>[{'id': 4, 'descricao': 'Acessos Terrestres', ...</td>\n",
       "      <td>[{'origem': 'Federal', 'valorInvestimentoPrevi...</td>\n",
       "    </tr>\n",
       "    <tr>\n",
       "      <th>1</th>\n",
       "      <td>42724.53-27</td>\n",
       "      <td>Escola Classe Crixá São Sebastião</td>\n",
       "      <td>None</td>\n",
       "      <td>None</td>\n",
       "      <td>Construção de Escola em Tempo Integral, Escola...</td>\n",
       "      <td>A construção da nova escola beneficiará 977 es...</td>\n",
       "      <td>Construção de Escola em Tempo Integral, Escola...</td>\n",
       "      <td>2024-09-02</td>\n",
       "      <td>2028-09-02</td>\n",
       "      <td>None</td>\n",
       "      <td>...</td>\n",
       "      <td>None</td>\n",
       "      <td>0.0</td>\n",
       "      <td>2025-09-05</td>\n",
       "      <td>[]</td>\n",
       "      <td>[{'nome': 'SECRETARIA DE ESTADO DE EDUCACAO DO...</td>\n",
       "      <td>[{'nome': 'FUNDO NACIONAL DE DESENVOLVIMENTO D...</td>\n",
       "      <td>[{'id': 4, 'descricao': 'Social'}]</td>\n",
       "      <td>[{'id': 46, 'descricao': 'Educação', 'idEixo':...</td>\n",
       "      <td>[{'id': 84, 'descricao': 'Educação', 'idTipo':...</td>\n",
       "      <td>[{'origem': 'Federal', 'valorInvestimentoPrevi...</td>\n",
       "    </tr>\n",
       "    <tr>\n",
       "      <th>2</th>\n",
       "      <td>19970.53-78</td>\n",
       "      <td>Reajuste do Contrato 45/2021 - Contrução do Ce...</td>\n",
       "      <td>70.602-600</td>\n",
       "      <td>SAIS Área Especial 3, Setor Policial Sul</td>\n",
       "      <td>Reajuste do Contrato 45/2021 - Construção do C...</td>\n",
       "      <td>Contribuir para a melhor formação dos bombeiro...</td>\n",
       "      <td>Construção de um novo centro de formação e de ...</td>\n",
       "      <td>2021-09-14</td>\n",
       "      <td>2024-08-28</td>\n",
       "      <td>None</td>\n",
       "      <td>...</td>\n",
       "      <td>None</td>\n",
       "      <td>0.0</td>\n",
       "      <td>2023-02-06</td>\n",
       "      <td>[]</td>\n",
       "      <td>[{'nome': 'CORPO DE BOMBEIROS MILITAR DO DISTR...</td>\n",
       "      <td>[{'nome': 'CORPO DE BOMBEIROS MILITAR DO DISTR...</td>\n",
       "      <td>[{'id': 1, 'descricao': 'Administrativo'}]</td>\n",
       "      <td>[{'id': 1, 'descricao': 'Segurança Pública', '...</td>\n",
       "      <td>[{'id': 59, 'descricao': 'Obras em Imóveis de ...</td>\n",
       "      <td>[{'origem': 'Federal', 'valorInvestimentoPrevi...</td>\n",
       "    </tr>\n",
       "  </tbody>\n",
       "</table>\n",
       "<p>3 rows × 31 columns</p>\n",
       "</div>"
      ],
      "text/plain": [
       "       idUnico                                               nome         cep  \\\n",
       "0  50379.53-54  DL - 304/2024 - Contratação de instituição par...        None   \n",
       "1  42724.53-27                  Escola Classe Crixá São Sebastião        None   \n",
       "2  19970.53-78  Reajuste do Contrato 45/2021 - Contrução do Ce...  70.602-600   \n",
       "\n",
       "                                   endereco  \\\n",
       "0                                      None   \n",
       "1                                      None   \n",
       "2  SAIS Área Especial 3, Setor Policial Sul   \n",
       "\n",
       "                                           descricao  \\\n",
       "0  Contratação de instituição para execução de se...   \n",
       "1  Construção de Escola em Tempo Integral, Escola...   \n",
       "2  Reajuste do Contrato 45/2021 - Construção do C...   \n",
       "\n",
       "                                        funcaoSocial  \\\n",
       "0  Ampliação da capacidade de trafego visando a m...   \n",
       "1  A construção da nova escola beneficiará 977 es...   \n",
       "2  Contribuir para a melhor formação dos bombeiro...   \n",
       "\n",
       "                                          metaGlobal dataInicialPrevista  \\\n",
       "0        Projetos Básicos e Executivos de Engenharia          2024-12-20   \n",
       "1  Construção de Escola em Tempo Integral, Escola...          2024-09-02   \n",
       "2  Construção de um novo centro de formação e de ...          2021-09-14   \n",
       "\n",
       "  dataFinalPrevista dataInicialEfetiva  ... observacoesPertinentes  \\\n",
       "0        2027-12-05               None  ...                   None   \n",
       "1        2028-09-02               None  ...                   None   \n",
       "2        2024-08-28               None  ...                   None   \n",
       "\n",
       "  isModeladaPorBim dataSituacao tomadores  \\\n",
       "0              0.0   2024-12-20        []   \n",
       "1              0.0   2025-09-05        []   \n",
       "2              0.0   2023-02-06        []   \n",
       "\n",
       "                                          executores  \\\n",
       "0  [{'nome': 'DEPARTAMENTO NACIONAL DE INFRAESTRU...   \n",
       "1  [{'nome': 'SECRETARIA DE ESTADO DE EDUCACAO DO...   \n",
       "2  [{'nome': 'CORPO DE BOMBEIROS MILITAR DO DISTR...   \n",
       "\n",
       "                                        repassadores  \\\n",
       "0                                                 []   \n",
       "1  [{'nome': 'FUNDO NACIONAL DE DESENVOLVIMENTO D...   \n",
       "2  [{'nome': 'CORPO DE BOMBEIROS MILITAR DO DISTR...   \n",
       "\n",
       "                                        eixos  \\\n",
       "0       [{'id': 3, 'descricao': 'Econômico'}]   \n",
       "1          [{'id': 4, 'descricao': 'Social'}]   \n",
       "2  [{'id': 1, 'descricao': 'Administrativo'}]   \n",
       "\n",
       "                                               tipos  \\\n",
       "0  [{'id': 25, 'descricao': 'Rodovia', 'idEixo': 3}]   \n",
       "1  [{'id': 46, 'descricao': 'Educação', 'idEixo':...   \n",
       "2  [{'id': 1, 'descricao': 'Segurança Pública', '...   \n",
       "\n",
       "                                            subTipos  \\\n",
       "0  [{'id': 4, 'descricao': 'Acessos Terrestres', ...   \n",
       "1  [{'id': 84, 'descricao': 'Educação', 'idTipo':...   \n",
       "2  [{'id': 59, 'descricao': 'Obras em Imóveis de ...   \n",
       "\n",
       "                                     fontesDeRecurso  \n",
       "0  [{'origem': 'Federal', 'valorInvestimentoPrevi...  \n",
       "1  [{'origem': 'Federal', 'valorInvestimentoPrevi...  \n",
       "2  [{'origem': 'Federal', 'valorInvestimentoPrevi...  \n",
       "\n",
       "[3 rows x 31 columns]"
      ]
     },
     "execution_count": 84,
     "metadata": {},
     "output_type": "execute_result"
    }
   ],
   "source": [
    "# Paths de entrada/saida\n",
    "ROOT = project_root\n",
    "RAW_PATH = ROOT / 'data' / 'raw' / 'dados_obras_gov.json'\n",
    "PROCESSED_DIR = ROOT / 'data' / 'processed'\n",
    "PROCESSED_DIR.mkdir(parents=True, exist_ok=True)\n",
    "\n",
    "print('Raw path:', RAW_PATH)\n",
    "print('Processed dir:', PROCESSED_DIR)\n",
    "\n",
    "# Leitura segura do JSON: se o arquivo contem objetos vazios, json.load pode falhar em alguns casos, entao usamos pandas.read_json com orientacao por records\n",
    "try:\n",
    "    df = pd.read_json(RAW_PATH, orient='records')\n",
    "except ValueError:\n",
    "    # fallback: carrega como texto e ignora objetos invalidos\n",
    "    with open(RAW_PATH, 'r', encoding='utf-8') as f:\n",
    "        raw_text = f.read()\n",
    "    data = json.loads(raw_text)\n",
    "    df = pd.json_normalize(data)\n",
    "\n",
    "print('Dados carregados: rows=', len(df))\n",
    "df.head(3)\n"
   ]
  },
  {
   "cell_type": "markdown",
   "id": "9870ea35",
   "metadata": {},
   "source": [
    "## 3 Analise inicial\n",
    "A seguir mostramos informações básicas e as colunas detectadas. Isso ajuda a decidir quais **transformações aplicar** **(datas, booleans, colunas aninhadas etc.)** e também a porcentagem de valores nulos em cada coluna."
   ]
  },
  {
   "cell_type": "code",
   "execution_count": 85,
   "id": "cda7e14e",
   "metadata": {},
   "outputs": [
    {
     "name": "stdout",
     "output_type": "stream",
     "text": [
      "shape: (834, 31)\n",
      "Sample dtypes:\n",
      "idUnico                                object\n",
      "nome                                   object\n",
      "cep                                    object\n",
      "endereco                               object\n",
      "descricao                              object\n",
      "funcaoSocial                           object\n",
      "metaGlobal                             object\n",
      "dataInicialPrevista                    object\n",
      "dataFinalPrevista                      object\n",
      "dataInicialEfetiva                     object\n",
      "dataFinalEfetiva                       object\n",
      "dataCadastro                           object\n",
      "especie                                object\n",
      "natureza                               object\n",
      "naturezaOutras                         object\n",
      "situacao                               object\n",
      "descPlanoNacionalPoliticaVinculado     object\n",
      "uf                                     object\n",
      "qdtEmpregosGerados                     object\n",
      "descPopulacaoBeneficiada               object\n",
      "populacaoBeneficiada                   object\n",
      "observacoesPertinentes                 object\n",
      "isModeladaPorBim                      float64\n",
      "dataSituacao                           object\n",
      "tomadores                              object\n",
      "executores                             object\n",
      "repassadores                           object\n",
      "eixos                                  object\n",
      "tipos                                  object\n",
      "subTipos                               object\n",
      "dtype: object\n"
     ]
    },
    {
     "data": {
      "text/plain": [
       "dataFinalEfetiva                      0.994005\n",
       "dataInicialEfetiva                    0.967626\n",
       "observacoesPertinentes                0.857314\n",
       "qdtEmpregosGerados                    0.820144\n",
       "populacaoBeneficiada                  0.817746\n",
       "descPopulacaoBeneficiada              0.814149\n",
       "naturezaOutras                        0.754197\n",
       "descPlanoNacionalPoliticaVinculado    0.676259\n",
       "cep                                   0.526379\n",
       "endereco                              0.483213\n",
       "isModeladaPorBim                      0.290168\n",
       "especie                               0.004796\n",
       "dataInicialPrevista                   0.003597\n",
       "dataFinalPrevista                     0.003597\n",
       "metaGlobal                            0.000000\n",
       "natureza                              0.000000\n",
       "dataCadastro                          0.000000\n",
       "funcaoSocial                          0.000000\n",
       "idUnico                               0.000000\n",
       "nome                                  0.000000\n",
       "descricao                             0.000000\n",
       "uf                                    0.000000\n",
       "situacao                              0.000000\n",
       "dataSituacao                          0.000000\n",
       "tomadores                             0.000000\n",
       "executores                            0.000000\n",
       "repassadores                          0.000000\n",
       "eixos                                 0.000000\n",
       "tipos                                 0.000000\n",
       "subTipos                              0.000000\n",
       "dtype: float64"
      ]
     },
     "execution_count": 85,
     "metadata": {},
     "output_type": "execute_result"
    }
   ],
   "source": [
    "# Informacoes basicas\n",
    "print('shape:', df.shape)\n",
    "print('Sample dtypes:')\n",
    "print(df.dtypes.head(30))\n",
    "\n",
    "# Percentual de valores nulos por coluna (ordenado)\n",
    "na_frac = df.isna().mean().sort_values(ascending=False)\n",
    "na_frac.head(30)\n",
    "\n"
   ]
  },
  {
   "cell_type": "code",
   "execution_count": 86,
   "id": "4d85eb39",
   "metadata": {},
   "outputs": [
    {
     "name": "stdout",
     "output_type": "stream",
     "text": [
      "0      Cadastrada\n",
      "1       Cancelada\n",
      "2      Cadastrada\n",
      "3      Cadastrada\n",
      "4      Cadastrada\n",
      "          ...    \n",
      "829    Cadastrada\n",
      "830    Cadastrada\n",
      "831    Cadastrada\n",
      "832    Cadastrada\n",
      "833    Cadastrada\n",
      "Name: situacao, Length: 834, dtype: object\n"
     ]
    }
   ],
   "source": [
    "print(df[\"situacao\"])"
   ]
  },
  {
   "cell_type": "markdown",
   "id": "35c012fd",
   "metadata": {},
   "source": [
    "## 4. Normalização\n",
    "\n",
    "### 4.1 Conversão de Tipos\n",
    "\n",
    "Identificamos as colunas que devem ser **convertidas para datas** `datetime64`, **inteiros** `float64`, **binárias** `boolean` e **texto** `string`. Foi utilizado um **mapeamento** baseado em nomes de coluna comuns detectados no dataset **para realizar as transformações** adequadas."
   ]
  },
  {
   "cell_type": "code",
   "execution_count": 87,
   "id": "e4f0c9f1",
   "metadata": {},
   "outputs": [
    {
     "name": "stdout",
     "output_type": "stream",
     "text": [
      "\n",
      "Tipos de Dados Corrigidos (DataFrame Principal):\n",
      "<class 'pandas.core.frame.DataFrame'>\n",
      "RangeIndex: 834 entries, 0 to 833\n",
      "Data columns (total 31 columns):\n",
      " #   Column                              Non-Null Count  Dtype         \n",
      "---  ------                              --------------  -----         \n",
      " 0   idUnico                             834 non-null    string        \n",
      " 1   nome                                834 non-null    string        \n",
      " 2   cep                                 395 non-null    string        \n",
      " 3   endereco                            431 non-null    string        \n",
      " 4   descricao                           834 non-null    string        \n",
      " 5   funcaoSocial                        834 non-null    string        \n",
      " 6   metaGlobal                          834 non-null    string        \n",
      " 7   dataInicialPrevista                 831 non-null    datetime64[ns]\n",
      " 8   dataFinalPrevista                   831 non-null    datetime64[ns]\n",
      " 9   dataInicialEfetiva                  27 non-null     datetime64[ns]\n",
      " 10  dataFinalEfetiva                    5 non-null      datetime64[ns]\n",
      " 11  dataCadastro                        834 non-null    datetime64[ns]\n",
      " 12  especie                             830 non-null    string        \n",
      " 13  natureza                            834 non-null    string        \n",
      " 14  naturezaOutras                      205 non-null    string        \n",
      " 15  situacao                            834 non-null    string        \n",
      " 16  descPlanoNacionalPoliticaVinculado  270 non-null    string        \n",
      " 17  uf                                  834 non-null    string        \n",
      " 18  qdtEmpregosGerados                  34 non-null     float64       \n",
      " 19  descPopulacaoBeneficiada            155 non-null    string        \n",
      " 20  populacaoBeneficiada                34 non-null     float64       \n",
      " 21  observacoesPertinentes              119 non-null    string        \n",
      " 22  isModeladaPorBim                    592 non-null    boolean       \n",
      " 23  dataSituacao                        834 non-null    datetime64[ns]\n",
      " 24  tomadores                           834 non-null    object        \n",
      " 25  executores                          834 non-null    object        \n",
      " 26  repassadores                        834 non-null    object        \n",
      " 27  eixos                               834 non-null    object        \n",
      " 28  tipos                               834 non-null    object        \n",
      " 29  subTipos                            834 non-null    object        \n",
      " 30  fontesDeRecurso                     834 non-null    object        \n",
      "dtypes: boolean(1), datetime64[ns](6), float64(2), object(7), string(15)\n",
      "memory usage: 197.2+ KB\n",
      "None\n"
     ]
    }
   ],
   "source": [
    "# Colunas de datas\n",
    "date_columns = [\n",
    "    'dataInicialPrevista', 'dataFinalPrevista', 'dataInicialEfetiva',\n",
    "    'dataFinalEfetiva', 'dataCadastro', 'dataSituacao'\n",
    "]\n",
    "for col in date_columns:\n",
    "    df[col] = pd.to_datetime(df[col], errors='coerce') # 'coerce' transforma erros em NaT (Not a Time)\n",
    "\n",
    "# Colunas numéricas\n",
    "numeric_columns = ['qdtEmpregosGerados', 'populacaoBeneficiada']\n",
    "for col in numeric_columns:\n",
    "    df[col] = pd.to_numeric(df[col], errors='coerce') # 'coerce' transforma erros em NaN\n",
    "\n",
    "# Coluna booleana\n",
    "df['isModeladaPorBim'] = df['isModeladaPorBim'].astype('boolean')\n",
    "\n",
    "text_columns = [\n",
    "    'idUnico', 'nome', 'cep', 'endereco', 'descricao', 'funcaoSocial',\n",
    "    'metaGlobal', 'especie', 'natureza', 'naturezaOutras', 'situacao',\n",
    "    'descPlanoNacionalPoliticaVinculado', 'uf', 'descPopulacaoBeneficiada',\n",
    "    'observacoesPertinentes'\n",
    "]\n",
    "\n",
    "for col in text_columns:\n",
    "    # Verifique se a coluna existe antes de converter\n",
    "    if col in df.columns:\n",
    "        df[col] = df[col].astype('string') # A conversão acontece aqui!\n",
    "\n",
    "\n",
    "print(\"\\nTipos de Dados Corrigidos (DataFrame Principal):\")\n",
    "print(df.info())"
   ]
  },
  {
   "cell_type": "markdown",
   "id": "83142d89",
   "metadata": {},
   "source": [
    "### 4.2 Colunas \n",
    "\n",
    "Separação das colunas aninhadas em seus próprios `DataFrame`. Além disso, está implementado a **transformação** da **descrição** ou **nome**, do tipo **Objeto** para `string`."
   ]
  },
  {
   "cell_type": "code",
   "execution_count": 88,
   "id": "819a01b8",
   "metadata": {},
   "outputs": [
    {
     "name": "stdout",
     "output_type": "stream",
     "text": [
      "\n",
      "a DataFrames Normalizados a\n",
      "\n",
      "DataFrame de Projetos (Principal):\n",
      "       idUnico                                               nome         cep  \\\n",
      "0  50379.53-54  DL - 304/2024 - Contratação de instituição par...        <NA>   \n",
      "1  42724.53-27                  Escola Classe Crixá São Sebastião        <NA>   \n",
      "2  19970.53-78  Reajuste do Contrato 45/2021 - Contrução do Ce...  70.602-600   \n",
      "3  24797.53-15  Implantação de Passarelas nas Estradas Parque ...        <NA>   \n",
      "4  24822.53-70  obra de construção da  Cabine de Medição, loca...        <NA>   \n",
      "\n",
      "                                   endereco  \\\n",
      "0                                      <NA>   \n",
      "1                                      <NA>   \n",
      "2  SAIS Área Especial 3, Setor Policial Sul   \n",
      "3                                      <NA>   \n",
      "4                                      <NA>   \n",
      "\n",
      "                                           descricao  \\\n",
      "0  Contratação de instituição para execução de se...   \n",
      "1  Construção de Escola em Tempo Integral, Escola...   \n",
      "2  Reajuste do Contrato 45/2021 - Construção do C...   \n",
      "3  Implantação de passarelas de estrutura mista n...   \n",
      "4  obra de construção da  Cabine de Medição, loca...   \n",
      "\n",
      "                                        funcaoSocial  \\\n",
      "0  Ampliação da capacidade de trafego visando a m...   \n",
      "1  A construção da nova escola beneficiará 977 es...   \n",
      "2  Contribuir para a melhor formação dos bombeiro...   \n",
      "3  Pedestres, no geral, demanda das ocupações lin...   \n",
      "4  A demanda de carga elétrica do Campus Darcy Ri...   \n",
      "\n",
      "                                          metaGlobal dataInicialPrevista  \\\n",
      "0        Projetos Básicos e Executivos de Engenharia          2024-12-20   \n",
      "1  Construção de Escola em Tempo Integral, Escola...          2024-09-02   \n",
      "2  Construção de um novo centro de formação e de ...          2021-09-14   \n",
      "3  Implantação de passarelas de estrutura mista n...          2023-08-30   \n",
      "4  A demanda de carga elétrica do Campus Darcy Ri...          2023-09-14   \n",
      "\n",
      "  dataFinalPrevista dataInicialEfetiva  ... naturezaOutras    situacao  \\\n",
      "0        2027-12-05                NaT  ...    CONSULTORIA  Cadastrada   \n",
      "1        2028-09-02                NaT  ...           <NA>   Cancelada   \n",
      "2        2024-08-28                NaT  ...           <NA>  Cadastrada   \n",
      "3        2028-08-30                NaT  ...           <NA>  Cadastrada   \n",
      "4        2024-03-14                NaT  ...           <NA>  Cadastrada   \n",
      "\n",
      "  descPlanoNacionalPoliticaVinculado  uf qdtEmpregosGerados  \\\n",
      "0                               <NA>  DF                NaN   \n",
      "1                               <NA>  DF               30.0   \n",
      "2                               <NA>  DF                NaN   \n",
      "3                               <NA>  DF                NaN   \n",
      "4                               <NA>  DF                NaN   \n",
      "\n",
      "                            descPopulacaoBeneficiada populacaoBeneficiada  \\\n",
      "0                                               <NA>                  NaN   \n",
      "1  A população diretamente beneficiada pela EC Cr...                385.0   \n",
      "2                                               <NA>                  NaN   \n",
      "3  Pedestres que moram nas regiões de Planaltina,...                  NaN   \n",
      "4                                               <NA>                  NaN   \n",
      "\n",
      "  observacoesPertinentes  isModeladaPorBim dataSituacao  \n",
      "0                   <NA>             False   2024-12-20  \n",
      "1                   <NA>             False   2025-09-05  \n",
      "2                   <NA>             False   2023-02-06  \n",
      "3                   <NA>             False   2023-08-28  \n",
      "4                   <NA>             False   2023-08-29  \n",
      "\n",
      "[5 rows x 24 columns]\n",
      "\n",
      "DataFrame de Executores:\n",
      "       idUnico                                               nome  \\\n",
      "0  50379.53-54  DEPARTAMENTO NACIONAL DE INFRAESTRUTURA DE TRA...   \n",
      "1  42724.53-27  SECRETARIA DE ESTADO DE EDUCACAO DO DISTRITO F...   \n",
      "2  19970.53-78     CORPO DE BOMBEIROS MILITAR DO DISTRITO FEDERAL   \n",
      "3  24797.53-15  DEPARTAMENTO DE ESTRADAS DE RODAGEM DO DISTRIT...   \n",
      "4  24822.53-70                  FUNDACAO UNIVERSIDADE DE BRASILIA   \n",
      "\n",
      "         codigo  \n",
      "0  5.484400e+04  \n",
      "1  3.946760e+11  \n",
      "2  8.977914e+12  \n",
      "3  7.053200e+10  \n",
      "4  2.627100e+04  \n",
      "\n",
      "DataFrame de Fontes de Recurso:\n",
      "       idUnico   origem  valorInvestimentoPrevisto\n",
      "0  50379.53-54  Federal                44463443.00\n",
      "1  42724.53-27  Federal                12319519.51\n",
      "2  19970.53-78  Federal                 1177429.91\n",
      "3  24797.53-15  Federal                10800000.00\n",
      "4  24822.53-70  Federal                  928139.70\n"
     ]
    }
   ],
   "source": [
    "# Tabela principal (projetos) - vamos manter apenas as colunas \"simples\"\n",
    "colunas_aninhadas = ['tomadores', 'executores', 'repassadores', 'eixos', 'tipos', 'subTipos', 'fontesDeRecurso']\n",
    "df_projetos = df.drop(columns=colunas_aninhadas)\n",
    "\n",
    "# Criando os DataFrames \"filhos\" (ignorei tomadores, muito semelhante ao executadores)\n",
    "df_executores = normalize_cols_multivalorada(df, 'idUnico', 'executores')\n",
    "df_eixos = normalize_cols_multivalorada(df, 'idUnico', 'eixos')\n",
    "df_tipos = normalize_cols_multivalorada(df, 'idUnico', 'tipos')\n",
    "df_subtipos = normalize_cols_multivalorada(df, 'idUnico', 'subTipos')\n",
    "df_fontes_recurso =normalize_cols_multivalorada(df, 'idUnico', 'fontesDeRecurso')\n",
    "\n",
    "# Transformando em string as colunas necessarias de cada DataFrame filho\n",
    "df_executores[\"nome\"] = df_executores[\"nome\"].astype(\"string\")\n",
    "df_eixos[\"descricao\"] = df_eixos[\"descricao\"].astype(\"string\")\n",
    "df_tipos[\"descricao\"] = df_tipos[\"descricao\"].astype(\"string\")\n",
    "df_subtipos[\"descricao\"] = df_subtipos[\"descricao\"].astype(\"string\")\n",
    "df_fontes_recurso[\"origem\"] = df_fontes_recurso[\"origem\"].astype(\"string\")\n",
    "\n",
    "print(\"\\na DataFrames Normalizados a\")\n",
    "print(\"\\nDataFrame de Projetos (Principal):\")\n",
    "print(df_projetos.head())\n",
    "\n",
    "print(\"\\nDataFrame de Executores:\")\n",
    "print(df_executores.head())\n",
    "\n",
    "print(\"\\nDataFrame de Fontes de Recurso:\")\n",
    "print(df_fontes_recurso.head())"
   ]
  },
  {
   "cell_type": "markdown",
   "id": "66d2d1f3",
   "metadata": {},
   "source": [
    "### 4.3 Normalização dos Titulos das Colunas\n",
    "\n",
    "Utilizando um módulo construido dentro de `src/normalizers/`, chamado `normalize_cols_names`, foi implementado a normalização dos tiutlos das colunas de cada DataFrame.\n",
    "\n",
    "- Exemplo: idUnico -> id_unico"
   ]
  },
  {
   "cell_type": "code",
   "execution_count": 89,
   "id": "a32ff807",
   "metadata": {},
   "outputs": [],
   "source": [
    "# Normalizando o titula das colunas\n",
    "for df_i in [df_projetos, df_executores, df_eixos, df_tipos, df_subtipos, df_fontes_recurso]:\n",
    "    df_i = normalize_cols_names(df_i, True)"
   ]
  },
  {
   "cell_type": "markdown",
   "id": "65ed75b4",
   "metadata": {},
   "source": [
    "## 5. Remoção de Valores não informativos"
   ]
  },
  {
   "cell_type": "markdown",
   "id": "4cc989f5",
   "metadata": {},
   "source": [
    "### 5.1 Remoção de linhas duplicadas\n",
    "\n",
    "Essa parte e fundamental, pois duplicatas é comum e muito prejudicial (nesse caso) as vizualizações. Aqui está visualmente representado, em gráfico rosca, que há uma **quantidade significativa de tuplas duplicadas**."
   ]
  },
  {
   "cell_type": "code",
   "execution_count": 90,
   "id": "c0d9da76",
   "metadata": {},
   "outputs": [
    {
     "data": {
      "application/vnd.plotly.v1+json": {
       "config": {
        "plotlyServerURL": "https://plot.ly"
       },
       "data": [
        {
         "domain": {
          "x": [
           0,
           1
          ],
          "y": [
           0,
           1
          ]
         },
         "hole": 0.4,
         "hovertemplate": "Categoria=%{label}<br>Contagem=%{value}<extra></extra>",
         "labels": [
          "Registros ÚNICOS",
          "Registros DUPLICADOS"
         ],
         "legendgroup": "",
         "name": "",
         "showlegend": true,
         "textinfo": "percent+value",
         "textposition": "inside",
         "type": "pie",
         "values": {
          "bdata": "qwKXAA==",
          "dtype": "i2"
         }
        }
       ],
       "layout": {
        "font": {
         "size": 14
        },
        "legend": {
         "tracegroupgap": 0
        },
        "template": {
         "data": {
          "bar": [
           {
            "error_x": {
             "color": "#2a3f5f"
            },
            "error_y": {
             "color": "#2a3f5f"
            },
            "marker": {
             "line": {
              "color": "#E5ECF6",
              "width": 0.5
             },
             "pattern": {
              "fillmode": "overlay",
              "size": 10,
              "solidity": 0.2
             }
            },
            "type": "bar"
           }
          ],
          "barpolar": [
           {
            "marker": {
             "line": {
              "color": "#E5ECF6",
              "width": 0.5
             },
             "pattern": {
              "fillmode": "overlay",
              "size": 10,
              "solidity": 0.2
             }
            },
            "type": "barpolar"
           }
          ],
          "carpet": [
           {
            "aaxis": {
             "endlinecolor": "#2a3f5f",
             "gridcolor": "white",
             "linecolor": "white",
             "minorgridcolor": "white",
             "startlinecolor": "#2a3f5f"
            },
            "baxis": {
             "endlinecolor": "#2a3f5f",
             "gridcolor": "white",
             "linecolor": "white",
             "minorgridcolor": "white",
             "startlinecolor": "#2a3f5f"
            },
            "type": "carpet"
           }
          ],
          "choropleth": [
           {
            "colorbar": {
             "outlinewidth": 0,
             "ticks": ""
            },
            "type": "choropleth"
           }
          ],
          "contour": [
           {
            "colorbar": {
             "outlinewidth": 0,
             "ticks": ""
            },
            "colorscale": [
             [
              0,
              "#0d0887"
             ],
             [
              0.1111111111111111,
              "#46039f"
             ],
             [
              0.2222222222222222,
              "#7201a8"
             ],
             [
              0.3333333333333333,
              "#9c179e"
             ],
             [
              0.4444444444444444,
              "#bd3786"
             ],
             [
              0.5555555555555556,
              "#d8576b"
             ],
             [
              0.6666666666666666,
              "#ed7953"
             ],
             [
              0.7777777777777778,
              "#fb9f3a"
             ],
             [
              0.8888888888888888,
              "#fdca26"
             ],
             [
              1,
              "#f0f921"
             ]
            ],
            "type": "contour"
           }
          ],
          "contourcarpet": [
           {
            "colorbar": {
             "outlinewidth": 0,
             "ticks": ""
            },
            "type": "contourcarpet"
           }
          ],
          "heatmap": [
           {
            "colorbar": {
             "outlinewidth": 0,
             "ticks": ""
            },
            "colorscale": [
             [
              0,
              "#0d0887"
             ],
             [
              0.1111111111111111,
              "#46039f"
             ],
             [
              0.2222222222222222,
              "#7201a8"
             ],
             [
              0.3333333333333333,
              "#9c179e"
             ],
             [
              0.4444444444444444,
              "#bd3786"
             ],
             [
              0.5555555555555556,
              "#d8576b"
             ],
             [
              0.6666666666666666,
              "#ed7953"
             ],
             [
              0.7777777777777778,
              "#fb9f3a"
             ],
             [
              0.8888888888888888,
              "#fdca26"
             ],
             [
              1,
              "#f0f921"
             ]
            ],
            "type": "heatmap"
           }
          ],
          "histogram": [
           {
            "marker": {
             "pattern": {
              "fillmode": "overlay",
              "size": 10,
              "solidity": 0.2
             }
            },
            "type": "histogram"
           }
          ],
          "histogram2d": [
           {
            "colorbar": {
             "outlinewidth": 0,
             "ticks": ""
            },
            "colorscale": [
             [
              0,
              "#0d0887"
             ],
             [
              0.1111111111111111,
              "#46039f"
             ],
             [
              0.2222222222222222,
              "#7201a8"
             ],
             [
              0.3333333333333333,
              "#9c179e"
             ],
             [
              0.4444444444444444,
              "#bd3786"
             ],
             [
              0.5555555555555556,
              "#d8576b"
             ],
             [
              0.6666666666666666,
              "#ed7953"
             ],
             [
              0.7777777777777778,
              "#fb9f3a"
             ],
             [
              0.8888888888888888,
              "#fdca26"
             ],
             [
              1,
              "#f0f921"
             ]
            ],
            "type": "histogram2d"
           }
          ],
          "histogram2dcontour": [
           {
            "colorbar": {
             "outlinewidth": 0,
             "ticks": ""
            },
            "colorscale": [
             [
              0,
              "#0d0887"
             ],
             [
              0.1111111111111111,
              "#46039f"
             ],
             [
              0.2222222222222222,
              "#7201a8"
             ],
             [
              0.3333333333333333,
              "#9c179e"
             ],
             [
              0.4444444444444444,
              "#bd3786"
             ],
             [
              0.5555555555555556,
              "#d8576b"
             ],
             [
              0.6666666666666666,
              "#ed7953"
             ],
             [
              0.7777777777777778,
              "#fb9f3a"
             ],
             [
              0.8888888888888888,
              "#fdca26"
             ],
             [
              1,
              "#f0f921"
             ]
            ],
            "type": "histogram2dcontour"
           }
          ],
          "mesh3d": [
           {
            "colorbar": {
             "outlinewidth": 0,
             "ticks": ""
            },
            "type": "mesh3d"
           }
          ],
          "parcoords": [
           {
            "line": {
             "colorbar": {
              "outlinewidth": 0,
              "ticks": ""
             }
            },
            "type": "parcoords"
           }
          ],
          "pie": [
           {
            "automargin": true,
            "type": "pie"
           }
          ],
          "scatter": [
           {
            "fillpattern": {
             "fillmode": "overlay",
             "size": 10,
             "solidity": 0.2
            },
            "type": "scatter"
           }
          ],
          "scatter3d": [
           {
            "line": {
             "colorbar": {
              "outlinewidth": 0,
              "ticks": ""
             }
            },
            "marker": {
             "colorbar": {
              "outlinewidth": 0,
              "ticks": ""
             }
            },
            "type": "scatter3d"
           }
          ],
          "scattercarpet": [
           {
            "marker": {
             "colorbar": {
              "outlinewidth": 0,
              "ticks": ""
             }
            },
            "type": "scattercarpet"
           }
          ],
          "scattergeo": [
           {
            "marker": {
             "colorbar": {
              "outlinewidth": 0,
              "ticks": ""
             }
            },
            "type": "scattergeo"
           }
          ],
          "scattergl": [
           {
            "marker": {
             "colorbar": {
              "outlinewidth": 0,
              "ticks": ""
             }
            },
            "type": "scattergl"
           }
          ],
          "scattermap": [
           {
            "marker": {
             "colorbar": {
              "outlinewidth": 0,
              "ticks": ""
             }
            },
            "type": "scattermap"
           }
          ],
          "scattermapbox": [
           {
            "marker": {
             "colorbar": {
              "outlinewidth": 0,
              "ticks": ""
             }
            },
            "type": "scattermapbox"
           }
          ],
          "scatterpolar": [
           {
            "marker": {
             "colorbar": {
              "outlinewidth": 0,
              "ticks": ""
             }
            },
            "type": "scatterpolar"
           }
          ],
          "scatterpolargl": [
           {
            "marker": {
             "colorbar": {
              "outlinewidth": 0,
              "ticks": ""
             }
            },
            "type": "scatterpolargl"
           }
          ],
          "scatterternary": [
           {
            "marker": {
             "colorbar": {
              "outlinewidth": 0,
              "ticks": ""
             }
            },
            "type": "scatterternary"
           }
          ],
          "surface": [
           {
            "colorbar": {
             "outlinewidth": 0,
             "ticks": ""
            },
            "colorscale": [
             [
              0,
              "#0d0887"
             ],
             [
              0.1111111111111111,
              "#46039f"
             ],
             [
              0.2222222222222222,
              "#7201a8"
             ],
             [
              0.3333333333333333,
              "#9c179e"
             ],
             [
              0.4444444444444444,
              "#bd3786"
             ],
             [
              0.5555555555555556,
              "#d8576b"
             ],
             [
              0.6666666666666666,
              "#ed7953"
             ],
             [
              0.7777777777777778,
              "#fb9f3a"
             ],
             [
              0.8888888888888888,
              "#fdca26"
             ],
             [
              1,
              "#f0f921"
             ]
            ],
            "type": "surface"
           }
          ],
          "table": [
           {
            "cells": {
             "fill": {
              "color": "#EBF0F8"
             },
             "line": {
              "color": "white"
             }
            },
            "header": {
             "fill": {
              "color": "#C8D4E3"
             },
             "line": {
              "color": "white"
             }
            },
            "type": "table"
           }
          ]
         },
         "layout": {
          "annotationdefaults": {
           "arrowcolor": "#2a3f5f",
           "arrowhead": 0,
           "arrowwidth": 1
          },
          "autotypenumbers": "strict",
          "coloraxis": {
           "colorbar": {
            "outlinewidth": 0,
            "ticks": ""
           }
          },
          "colorscale": {
           "diverging": [
            [
             0,
             "#8e0152"
            ],
            [
             0.1,
             "#c51b7d"
            ],
            [
             0.2,
             "#de77ae"
            ],
            [
             0.3,
             "#f1b6da"
            ],
            [
             0.4,
             "#fde0ef"
            ],
            [
             0.5,
             "#f7f7f7"
            ],
            [
             0.6,
             "#e6f5d0"
            ],
            [
             0.7,
             "#b8e186"
            ],
            [
             0.8,
             "#7fbc41"
            ],
            [
             0.9,
             "#4d9221"
            ],
            [
             1,
             "#276419"
            ]
           ],
           "sequential": [
            [
             0,
             "#0d0887"
            ],
            [
             0.1111111111111111,
             "#46039f"
            ],
            [
             0.2222222222222222,
             "#7201a8"
            ],
            [
             0.3333333333333333,
             "#9c179e"
            ],
            [
             0.4444444444444444,
             "#bd3786"
            ],
            [
             0.5555555555555556,
             "#d8576b"
            ],
            [
             0.6666666666666666,
             "#ed7953"
            ],
            [
             0.7777777777777778,
             "#fb9f3a"
            ],
            [
             0.8888888888888888,
             "#fdca26"
            ],
            [
             1,
             "#f0f921"
            ]
           ],
           "sequentialminus": [
            [
             0,
             "#0d0887"
            ],
            [
             0.1111111111111111,
             "#46039f"
            ],
            [
             0.2222222222222222,
             "#7201a8"
            ],
            [
             0.3333333333333333,
             "#9c179e"
            ],
            [
             0.4444444444444444,
             "#bd3786"
            ],
            [
             0.5555555555555556,
             "#d8576b"
            ],
            [
             0.6666666666666666,
             "#ed7953"
            ],
            [
             0.7777777777777778,
             "#fb9f3a"
            ],
            [
             0.8888888888888888,
             "#fdca26"
            ],
            [
             1,
             "#f0f921"
            ]
           ]
          },
          "colorway": [
           "#636efa",
           "#EF553B",
           "#00cc96",
           "#ab63fa",
           "#FFA15A",
           "#19d3f3",
           "#FF6692",
           "#B6E880",
           "#FF97FF",
           "#FECB52"
          ],
          "font": {
           "color": "#2a3f5f"
          },
          "geo": {
           "bgcolor": "white",
           "lakecolor": "white",
           "landcolor": "#E5ECF6",
           "showlakes": true,
           "showland": true,
           "subunitcolor": "white"
          },
          "hoverlabel": {
           "align": "left"
          },
          "hovermode": "closest",
          "mapbox": {
           "style": "light"
          },
          "paper_bgcolor": "white",
          "plot_bgcolor": "#E5ECF6",
          "polar": {
           "angularaxis": {
            "gridcolor": "white",
            "linecolor": "white",
            "ticks": ""
           },
           "bgcolor": "#E5ECF6",
           "radialaxis": {
            "gridcolor": "white",
            "linecolor": "white",
            "ticks": ""
           }
          },
          "scene": {
           "xaxis": {
            "backgroundcolor": "#E5ECF6",
            "gridcolor": "white",
            "gridwidth": 2,
            "linecolor": "white",
            "showbackground": true,
            "ticks": "",
            "zerolinecolor": "white"
           },
           "yaxis": {
            "backgroundcolor": "#E5ECF6",
            "gridcolor": "white",
            "gridwidth": 2,
            "linecolor": "white",
            "showbackground": true,
            "ticks": "",
            "zerolinecolor": "white"
           },
           "zaxis": {
            "backgroundcolor": "#E5ECF6",
            "gridcolor": "white",
            "gridwidth": 2,
            "linecolor": "white",
            "showbackground": true,
            "ticks": "",
            "zerolinecolor": "white"
           }
          },
          "shapedefaults": {
           "line": {
            "color": "#2a3f5f"
           }
          },
          "ternary": {
           "aaxis": {
            "gridcolor": "white",
            "linecolor": "white",
            "ticks": ""
           },
           "baxis": {
            "gridcolor": "white",
            "linecolor": "white",
            "ticks": ""
           },
           "bgcolor": "#E5ECF6",
           "caxis": {
            "gridcolor": "white",
            "linecolor": "white",
            "ticks": ""
           }
          },
          "title": {
           "x": 0.05
          },
          "xaxis": {
           "automargin": true,
           "gridcolor": "white",
           "linecolor": "white",
           "ticks": "",
           "title": {
            "standoff": 15
           },
           "zerolinecolor": "white",
           "zerolinewidth": 2
          },
          "yaxis": {
           "automargin": true,
           "gridcolor": "white",
           "linecolor": "white",
           "ticks": "",
           "title": {
            "standoff": 15
           },
           "zerolinecolor": "white",
           "zerolinewidth": 2
          }
         }
        },
        "title": {
         "font": {
          "size": 18
         },
         "text": "<b>Total de Registros Extraídos: 834</b><br>(Proporção de Registros Únicos vs. Duplicados)"
        }
       }
      }
     },
     "metadata": {},
     "output_type": "display_data"
    }
   ],
   "source": [
    "# 1. Obter os números da análise anterior\n",
    "total_registros = len(df_projetos) # 834\n",
    "registros_unicos = df_projetos['id_unico'].nunique() # 683\n",
    "registros_duplicados = total_registros - registros_unicos\n",
    "\n",
    "# 2. Criar um DataFrame para a visualização\n",
    "df_plot = pd.DataFrame({\n",
    "    'Categoria': ['Registros ÚNICOS', 'Registros DUPLICADOS'],\n",
    "    'Contagem': [registros_unicos, registros_duplicados]\n",
    "})\n",
    "\n",
    "# 3. Criar o Gráfico de Rosca (Donut Chart)\n",
    "fig = px.pie(\n",
    "    df_plot, \n",
    "    values='Contagem', \n",
    "    names='Categoria',\n",
    "    title=f'<b>Total de Registros Extraídos: {total_registros}</b><br>(Proporção de Registros Únicos vs. Duplicados)',\n",
    "    hole=0.4, # O \"buraco\" no meio\n",
    "    color_discrete_map={\n",
    "        'Registros ÚNICOS': 'royalblue',\n",
    "        'Registros DUPLICADOS': 'darkorange'\n",
    "    }\n",
    ")\n",
    "\n",
    "# Adiciona os números e percentuais\n",
    "fig.update_traces(\n",
    "    textposition='inside', \n",
    "    textinfo='percent+value'\n",
    ")\n",
    "\n",
    "fig.update_layout(\n",
    "    font_size=14,\n",
    "    title_font_size=18\n",
    ")\n",
    "fig.show()"
   ]
  },
  {
   "cell_type": "markdown",
   "id": "9b6d2d1b",
   "metadata": {},
   "source": [
    "- Objetivo: Remover todas duplicadas para manter o `DataFrame` com valores exclusivamente únicos `UNIQUE`."
   ]
  },
  {
   "cell_type": "code",
   "execution_count": 91,
   "id": "a8812c54",
   "metadata": {},
   "outputs": [],
   "source": [
    "# Remove linhas duplicadas com base no 'id_unico'\n",
    "# 'keep='first'' (padrão) mantém a primeira ocorrência e remove as seguintes.\n",
    "df_projetos = df_projetos.drop_duplicates(subset='id_unico', keep='first')"
   ]
  },
  {
   "cell_type": "markdown",
   "id": "6d7560db",
   "metadata": {},
   "source": [
    "### 5.2 Remoção de colunas com +95% de valores nulos\n",
    "\n",
    "Removeremos colunas com **mais de 95% de valores nulos** — são geralmente não informativas para análise inicial. Também vamos achatar colunas de listas quando possível (ex.: tomadores, executores) mantendo o comprimento máximo ou a primeira entrada."
   ]
  },
  {
   "cell_type": "code",
   "execution_count": 92,
   "id": "911aade4",
   "metadata": {},
   "outputs": [
    {
     "name": "stdout",
     "output_type": "stream",
     "text": [
      "Colunas muito esparsas (serao removidas): 4\n",
      "Colunas que contêm listas (serao resumidas): ['tomadores', 'executores', 'repassadores', 'eixos', 'tipos', 'subTipos', 'fontesDeRecurso']\n",
      "Shape apos limpeza: (834, 34)\n"
     ]
    },
    {
     "data": {
      "text/html": [
       "<div>\n",
       "<style scoped>\n",
       "    .dataframe tbody tr th:only-of-type {\n",
       "        vertical-align: middle;\n",
       "    }\n",
       "\n",
       "    .dataframe tbody tr th {\n",
       "        vertical-align: top;\n",
       "    }\n",
       "\n",
       "    .dataframe thead th {\n",
       "        text-align: right;\n",
       "    }\n",
       "</style>\n",
       "<table border=\"1\" class=\"dataframe\">\n",
       "  <thead>\n",
       "    <tr style=\"text-align: right;\">\n",
       "      <th></th>\n",
       "      <th>idUnico</th>\n",
       "      <th>nome</th>\n",
       "      <th>cep</th>\n",
       "      <th>endereco</th>\n",
       "      <th>descricao</th>\n",
       "      <th>funcaoSocial</th>\n",
       "      <th>metaGlobal</th>\n",
       "      <th>dataInicialPrevista</th>\n",
       "      <th>dataFinalPrevista</th>\n",
       "      <th>dataCadastro</th>\n",
       "      <th>...</th>\n",
       "      <th>repassadores_len</th>\n",
       "      <th>repassadores_first</th>\n",
       "      <th>eixos_len</th>\n",
       "      <th>eixos_first</th>\n",
       "      <th>tipos_len</th>\n",
       "      <th>tipos_first</th>\n",
       "      <th>subTipos_len</th>\n",
       "      <th>subTipos_first</th>\n",
       "      <th>fontesDeRecurso_len</th>\n",
       "      <th>fontesDeRecurso_first</th>\n",
       "    </tr>\n",
       "  </thead>\n",
       "  <tbody>\n",
       "    <tr>\n",
       "      <th>0</th>\n",
       "      <td>50379.53-54</td>\n",
       "      <td>DL - 304/2024 - Contratação de instituição par...</td>\n",
       "      <td>&lt;NA&gt;</td>\n",
       "      <td>&lt;NA&gt;</td>\n",
       "      <td>Contratação de instituição para execução de se...</td>\n",
       "      <td>Ampliação da capacidade de trafego visando a m...</td>\n",
       "      <td>Projetos Básicos e Executivos de Engenharia</td>\n",
       "      <td>2024-12-20</td>\n",
       "      <td>2027-12-05</td>\n",
       "      <td>2024-12-20</td>\n",
       "      <td>...</td>\n",
       "      <td>0</td>\n",
       "      <td>&lt;NA&gt;</td>\n",
       "      <td>1</td>\n",
       "      <td>3</td>\n",
       "      <td>1</td>\n",
       "      <td>25</td>\n",
       "      <td>1</td>\n",
       "      <td>4</td>\n",
       "      <td>1</td>\n",
       "      <td>{'origem': 'Federal', 'valorInvestimentoPrevis...</td>\n",
       "    </tr>\n",
       "    <tr>\n",
       "      <th>1</th>\n",
       "      <td>42724.53-27</td>\n",
       "      <td>Escola Classe Crixá São Sebastião</td>\n",
       "      <td>&lt;NA&gt;</td>\n",
       "      <td>&lt;NA&gt;</td>\n",
       "      <td>Construção de Escola em Tempo Integral, Escola...</td>\n",
       "      <td>A construção da nova escola beneficiará 977 es...</td>\n",
       "      <td>Construção de Escola em Tempo Integral, Escola...</td>\n",
       "      <td>2024-09-02</td>\n",
       "      <td>2028-09-02</td>\n",
       "      <td>2024-08-30</td>\n",
       "      <td>...</td>\n",
       "      <td>1</td>\n",
       "      <td>FUNDO NACIONAL DE DESENVOLVIMENTO DA EDUCAÇÃO</td>\n",
       "      <td>1</td>\n",
       "      <td>4</td>\n",
       "      <td>1</td>\n",
       "      <td>46</td>\n",
       "      <td>1</td>\n",
       "      <td>84</td>\n",
       "      <td>1</td>\n",
       "      <td>{'origem': 'Federal', 'valorInvestimentoPrevis...</td>\n",
       "    </tr>\n",
       "  </tbody>\n",
       "</table>\n",
       "<p>2 rows × 34 columns</p>\n",
       "</div>"
      ],
      "text/plain": [
       "       idUnico                                               nome   cep  \\\n",
       "0  50379.53-54  DL - 304/2024 - Contratação de instituição par...  <NA>   \n",
       "1  42724.53-27                  Escola Classe Crixá São Sebastião  <NA>   \n",
       "\n",
       "  endereco                                          descricao  \\\n",
       "0     <NA>  Contratação de instituição para execução de se...   \n",
       "1     <NA>  Construção de Escola em Tempo Integral, Escola...   \n",
       "\n",
       "                                        funcaoSocial  \\\n",
       "0  Ampliação da capacidade de trafego visando a m...   \n",
       "1  A construção da nova escola beneficiará 977 es...   \n",
       "\n",
       "                                          metaGlobal dataInicialPrevista  \\\n",
       "0        Projetos Básicos e Executivos de Engenharia          2024-12-20   \n",
       "1  Construção de Escola em Tempo Integral, Escola...          2024-09-02   \n",
       "\n",
       "  dataFinalPrevista dataCadastro  ... repassadores_len  \\\n",
       "0        2027-12-05   2024-12-20  ...                0   \n",
       "1        2028-09-02   2024-08-30  ...                1   \n",
       "\n",
       "                              repassadores_first eixos_len eixos_first  \\\n",
       "0                                           <NA>         1           3   \n",
       "1  FUNDO NACIONAL DE DESENVOLVIMENTO DA EDUCAÇÃO         1           4   \n",
       "\n",
       "  tipos_len tipos_first subTipos_len subTipos_first  fontesDeRecurso_len  \\\n",
       "0         1          25            1              4                    1   \n",
       "1         1          46            1             84                    1   \n",
       "\n",
       "                               fontesDeRecurso_first  \n",
       "0  {'origem': 'Federal', 'valorInvestimentoPrevis...  \n",
       "1  {'origem': 'Federal', 'valorInvestimentoPrevis...  \n",
       "\n",
       "[2 rows x 34 columns]"
      ]
     },
     "execution_count": 92,
     "metadata": {},
     "output_type": "execute_result"
    }
   ],
   "source": [
    "# Remover colunas com frac de NA acima de um limiar\n",
    "SPARSE_THRESHOLD = 0.95\n",
    "na_frac = df.isna().mean()\n",
    "sparse_cols = na_frac[na_frac > SPARSE_THRESHOLD].index.tolist()\n",
    "print('Colunas muito esparsas (serao removidas):', len(sparse_cols))\n",
    "\n",
    "df = df.drop(columns=sparse_cols)\n",
    "\n",
    "list_cols = [c for c in df.columns if df[c].apply(lambda x: isinstance(x, list)).any()]\n",
    "print('Colunas que contêm listas (serao resumidas):', list_cols)\n",
    "for c in list_cols:\n",
    "    # Converte lista vazia ou nao-lista para None, senao pega o primeiro elemento ou comprimento\n",
    "    df[c + '_len'] = df[c].apply(lambda x: len(x) if isinstance(x, list) else (0 if pd.isna(x) else 1))\n",
    "    # Também extrai o primeiro item se existir e for dict com 'nome' ou 'id'\n",
    "    def first_summary(v):\n",
    "        if isinstance(v, list) and len(v) > 0:\n",
    "            first = v[0]\n",
    "            if isinstance(first, dict):\n",
    "                return first.get('nome') or first.get('id') or str(first)\n",
    "            return first\n",
    "        return pd.NA\n",
    "    df[c + '_first'] = df[c].apply(first_summary)\n",
    "    # drop original list column para evitar campos complexos\n",
    "    df = df.drop(columns=[c])\n",
    "\n",
    "print('Shape apos limpeza:', df.shape)\n",
    "df.head(2)\n"
   ]
  },
  {
   "cell_type": "markdown",
   "id": "43d98b6e",
   "metadata": {},
   "source": [
    "### 6. Checagem \n",
    "\n",
    "Colunas agora com a **tipagem adequada** e **nomiação** correta, seguindo as boas práticas da ciência de dados."
   ]
  },
  {
   "cell_type": "code",
   "execution_count": 93,
   "id": "5c4fd949",
   "metadata": {},
   "outputs": [
    {
     "name": "stdout",
     "output_type": "stream",
     "text": [
      "<class 'pandas.core.frame.DataFrame'>\n",
      "Index: 683 entries, 0 to 833\n",
      "Data columns (total 24 columns):\n",
      " #   Column                                  Non-Null Count  Dtype         \n",
      "---  ------                                  --------------  -----         \n",
      " 0   id_unico                                683 non-null    string        \n",
      " 1   nome                                    683 non-null    string        \n",
      " 2   cep                                     329 non-null    string        \n",
      " 3   endereco                                361 non-null    string        \n",
      " 4   descricao                               683 non-null    string        \n",
      " 5   funcao_social                           683 non-null    string        \n",
      " 6   meta_global                             683 non-null    string        \n",
      " 7   data_inicial_prevista                   681 non-null    datetime64[ns]\n",
      " 8   data_final_prevista                     681 non-null    datetime64[ns]\n",
      " 9   data_inicial_efetiva                    22 non-null     datetime64[ns]\n",
      " 10  data_final_efetiva                      4 non-null      datetime64[ns]\n",
      " 11  data_cadastro                           683 non-null    datetime64[ns]\n",
      " 12  especie                                 680 non-null    string        \n",
      " 13  natureza                                683 non-null    string        \n",
      " 14  natureza_outras                         179 non-null    string        \n",
      " 15  situacao                                683 non-null    string        \n",
      " 16  desc_plano_nacional_politica_vinculado  234 non-null    string        \n",
      " 17  uf                                      683 non-null    string        \n",
      " 18  qdt_empregos_gerados                    28 non-null     float64       \n",
      " 19  desc_populacao_beneficiada              132 non-null    string        \n",
      " 20  populacao_beneficiada                   28 non-null     float64       \n",
      " 21  observacoes_pertinentes                 101 non-null    string        \n",
      " 22  is_modelada_por_bim                     481 non-null    boolean       \n",
      " 23  data_situacao                           683 non-null    datetime64[ns]\n",
      "dtypes: boolean(1), datetime64[ns](6), float64(2), string(15)\n",
      "memory usage: 129.4 KB\n"
     ]
    }
   ],
   "source": [
    "df_projetos.info()"
   ]
  },
  {
   "cell_type": "code",
   "execution_count": 94,
   "id": "4fa82e71",
   "metadata": {},
   "outputs": [
    {
     "name": "stdout",
     "output_type": "stream",
     "text": [
      "<class 'pandas.core.frame.DataFrame'>\n",
      "Index: 894 entries, 0 to 833\n",
      "Data columns (total 3 columns):\n",
      " #   Column    Non-Null Count  Dtype  \n",
      "---  ------    --------------  -----  \n",
      " 0   id_unico  894 non-null    string \n",
      " 1   nome      890 non-null    string \n",
      " 2   codigo    890 non-null    float64\n",
      "dtypes: float64(1), string(2)\n",
      "memory usage: 27.9 KB\n"
     ]
    }
   ],
   "source": [
    "df_executores.info()"
   ]
  },
  {
   "cell_type": "code",
   "execution_count": 95,
   "id": "0048d6af",
   "metadata": {},
   "outputs": [
    {
     "name": "stdout",
     "output_type": "stream",
     "text": [
      "<class 'pandas.core.frame.DataFrame'>\n",
      "Index: 989 entries, 0 to 833\n",
      "Data columns (total 3 columns):\n",
      " #   Column     Non-Null Count  Dtype  \n",
      "---  ------     --------------  -----  \n",
      " 0   id_unico   989 non-null    string \n",
      " 1   id         985 non-null    float64\n",
      " 2   descricao  985 non-null    string \n",
      "dtypes: float64(1), string(2)\n",
      "memory usage: 30.9 KB\n"
     ]
    }
   ],
   "source": [
    "df_eixos.info() "
   ]
  },
  {
   "cell_type": "code",
   "execution_count": 96,
   "id": "dc67f3b2",
   "metadata": {},
   "outputs": [
    {
     "name": "stdout",
     "output_type": "stream",
     "text": [
      "<class 'pandas.core.frame.DataFrame'>\n",
      "Index: 989 entries, 0 to 833\n",
      "Data columns (total 4 columns):\n",
      " #   Column     Non-Null Count  Dtype  \n",
      "---  ------     --------------  -----  \n",
      " 0   id_unico   989 non-null    string \n",
      " 1   id         985 non-null    float64\n",
      " 2   descricao  985 non-null    string \n",
      " 3   id_eixo    985 non-null    float64\n",
      "dtypes: float64(2), string(2)\n",
      "memory usage: 38.6 KB\n"
     ]
    }
   ],
   "source": [
    "df_tipos.info()"
   ]
  },
  {
   "cell_type": "code",
   "execution_count": 97,
   "id": "fcc88212",
   "metadata": {},
   "outputs": [
    {
     "name": "stdout",
     "output_type": "stream",
     "text": [
      "<class 'pandas.core.frame.DataFrame'>\n",
      "Index: 989 entries, 0 to 833\n",
      "Data columns (total 4 columns):\n",
      " #   Column     Non-Null Count  Dtype  \n",
      "---  ------     --------------  -----  \n",
      " 0   id_unico   989 non-null    string \n",
      " 1   id         985 non-null    float64\n",
      " 2   descricao  985 non-null    string \n",
      " 3   id_tipo    985 non-null    float64\n",
      "dtypes: float64(2), string(2)\n",
      "memory usage: 38.6 KB\n"
     ]
    }
   ],
   "source": [
    "df_subtipos.info()"
   ]
  },
  {
   "cell_type": "code",
   "execution_count": 98,
   "id": "a2c36419",
   "metadata": {},
   "outputs": [
    {
     "name": "stdout",
     "output_type": "stream",
     "text": [
      "<class 'pandas.core.frame.DataFrame'>\n",
      "Index: 837 entries, 0 to 833\n",
      "Data columns (total 3 columns):\n",
      " #   Column                       Non-Null Count  Dtype  \n",
      "---  ------                       --------------  -----  \n",
      " 0   id_unico                     837 non-null    string \n",
      " 1   origem                       837 non-null    string \n",
      " 2   valor_investimento_previsto  837 non-null    float64\n",
      "dtypes: float64(1), string(2)\n",
      "memory usage: 26.2 KB\n"
     ]
    }
   ],
   "source": [
    "df_fontes_recurso.info()"
   ]
  },
  {
   "cell_type": "markdown",
   "id": "b3d20653",
   "metadata": {},
   "source": [
    "## 7. Freature Engineer"
   ]
  },
  {
   "cell_type": "markdown",
   "id": "55b201b2",
   "metadata": {},
   "source": [
    "Nesta seção, vamos **\"enriquecer\" os dados**. A engenharia de features é o processo de usar o conhecimento do domínio para criar novas colunas (features) a partir dos dados brutos, tornando a **análise** e a **modelagem mais fáceis e poderosas**."
   ]
  },
  {
   "cell_type": "markdown",
   "id": "1671ed95",
   "metadata": {},
   "source": [
    "### 7.1. Features Temporais: Duração e Atraso\n",
    "\n",
    "As colunas de data são uma fonte rica de informação. Vamos calcular métricas de performance e cronograma, como a **duração planejada de um projeto**, a **duração que ele realmente levou** (se concluído) e, o mais importante, o **atraso (em dias) entre o início previsto e o início efetivo**."
   ]
  },
  {
   "cell_type": "code",
   "execution_count": 99,
   "id": "213ed0c2",
   "metadata": {},
   "outputs": [
    {
     "name": "stdout",
     "output_type": "stream",
     "text": [
      "Features de data (duração, atraso, ano/mês) criadas.\n",
      "      id_unico  duracao_prevista_dias  atraso_inicio_dias  ano_inicio_previsto\n",
      "0  50379.53-54                 1080.0                 NaN               2024.0\n",
      "1  42724.53-27                 1461.0                 NaN               2024.0\n",
      "2  19970.53-78                 1079.0                 NaN               2021.0\n",
      "3  24797.53-15                 1827.0                 NaN               2023.0\n",
      "4  24822.53-70                  182.0                 NaN               2023.0\n"
     ]
    }
   ],
   "source": [
    "# 1. Duração Prevista (Quantos dias o projeto deveria durar) \n",
    "# (Você já fez isso, mas garantindo que esteja aqui)\n",
    "df_projetos['duracao_prevista_dias'] = (\n",
    "    df_projetos['data_final_prevista'] - df_projetos['data_inicial_prevista']\n",
    ").dt.days\n",
    "\n",
    "# 2. Duração Efetiva (Quantos dias o projeto *realmente* durou)\n",
    "df_projetos['duracao_efetiva_dias'] = (\n",
    "    df_projetos['data_final_efetiva'] - df_projetos['data_inicial_efetiva']\n",
    ").dt.days\n",
    "\n",
    "# 3. Atraso no Início (Quantos dias de atraso para o projeto começar)\n",
    "# Esta é uma métrica de performance fantástica.\n",
    "df_projetos['atraso_inicio_dias'] = (\n",
    "    df_projetos['data_inicial_efetiva'] - df_projetos['data_inicial_prevista']\n",
    ").dt.days\n",
    "\n",
    "# 4. Extração de Componentes Temporais (para agrupar na visualização)\n",
    "df_projetos['ano_inicio_previsto'] = df_projetos['data_inicial_prevista'].dt.year\n",
    "df_projetos['mes_inicio_previsto'] = df_projetos['data_inicial_prevista'].dt.month\n",
    "df_projetos['trimestre_cadastro'] = df_projetos['data_cadastro'].dt.quarter\n",
    "\n",
    "print(\"Features de data (duração, atraso, ano/mês) criadas.\")\n",
    "print(df_projetos[['id_unico', 'duracao_prevista_dias', 'atraso_inicio_dias', 'ano_inicio_previsto']].head())"
   ]
  },
  {
   "cell_type": "markdown",
   "id": "68c5e2bb",
   "metadata": {},
   "source": [
    "### 7.2. Agregação de Valores: Trazendo Finanças para a Tabela Principal\n",
    "\n",
    "Atualmente, o `df_projetos` não contém valores financeiros; eles vivem na tabela normalizada `df_fontes_recurso`. Como um projeto pode ter múltiplas fontes, precisamos agregar (somar) todos esses valores para obter o `valor_total_investimento` de cada projeto.\n",
    "\n",
    "Em seguida, usamos um `merge` para adicionar essa nova coluna de valor total de volta ao `df_projetos`, centralizando nossas métricas mais importantes."
   ]
  },
  {
   "cell_type": "code",
   "execution_count": 100,
   "id": "03eb3372",
   "metadata": {},
   "outputs": [
    {
     "name": "stdout",
     "output_type": "stream",
     "text": [
      "Valores agregados de investimento juntados ao df_projetos.\n",
      "      id_unico  valor_total_investimento  qdt_empregos_gerados\n",
      "0  50379.53-54               44463443.00                   NaN\n",
      "1  42724.53-27               12319519.51                  30.0\n",
      "2  19970.53-78                1177429.91                   NaN\n",
      "3  24797.53-15               10800000.00                   NaN\n",
      "4  24822.53-70                 928139.70                   NaN\n"
     ]
    }
   ],
   "source": [
    "# 1. Agregar (SOMAR) o valor do investimento por projeto\n",
    "# (df_fontes_recurso pode ter múltiplas fontes para um mesmo id_unico)\n",
    "df_valor_total = df_fontes_recurso.groupby('id_unico')['valor_investimento_previsto'].sum().reset_index()\n",
    "df_valor_total = df_valor_total.rename(columns={'valor_investimento_previsto': 'valor_total_investimento'})\n",
    "\n",
    "# 2. Juntar (Merge) essa soma de volta ao df_projetos \n",
    "df_projetos = pd.merge(\n",
    "    df_projetos, \n",
    "    df_valor_total, \n",
    "    on='id_unico', \n",
    "    how='left' # 'left' join para manter todos os projetos, mesmo os sem valor\n",
    ")\n",
    "\n",
    "df_projetos['qdt_empregos_gerados'] = pd.to_numeric(df_projetos['qdt_empregos_gerados'], errors='coerce')\n",
    "\n",
    "print(\"Valores agregados de investimento juntados ao df_projetos.\")\n",
    "print(df_projetos[['id_unico', 'valor_total_investimento', 'qdt_empregos_gerados']].head())"
   ]
  },
  {
   "cell_type": "markdown",
   "id": "620fc024",
   "metadata": {},
   "source": [
    "### 7.3. Criação de Métrica de Eficiência: Empregos por Milhão\n",
    "\n",
    "Esta foi uma das features motivadas pela dificuldade na visualização. Em vez de apenas olhar para \"Total de Empregos\" e \"Total de Investimento\" separadamente, criamos uma métrica de eficiência que os combina: `Empregos Gerados a cada R$ 1 Milhão Investido`.\n",
    "\n",
    "Isso nos permitirá identificar rapidamente quais projetos (ou tipos de projeto) geram o maior impacto social por real gasto."
   ]
  },
  {
   "cell_type": "code",
   "execution_count": 101,
   "id": "f3fb632c",
   "metadata": {},
   "outputs": [
    {
     "name": "stdout",
     "output_type": "stream",
     "text": [
      "Métrica de eficiência 'empregos_por_milhao_brl' criada.\n",
      "      id_unico  valor_total_investimento  qdt_empregos_gerados  \\\n",
      "0  50379.53-54               44463443.00                   NaN   \n",
      "1  42724.53-27               12319519.51                  30.0   \n",
      "2  19970.53-78                1177429.91                   NaN   \n",
      "3  24797.53-15               10800000.00                   NaN   \n",
      "4  24822.53-70                 928139.70                   NaN   \n",
      "\n",
      "   empregos_por_milhao_brl  \n",
      "0                      NaN  \n",
      "1                     2.44  \n",
      "2                      NaN  \n",
      "3                      NaN  \n",
      "4                      NaN  \n"
     ]
    }
   ],
   "source": [
    "# 1. Substitui 0 por NaN para evitar divisão por zero \n",
    "df_projetos['valor_total_investimento'] = df_projetos['valor_total_investimento'].replace(0, np.nan)\n",
    "\n",
    "# 2. Criação da Métrica de Eficiência \n",
    "df_projetos['empregos_por_milhao_brl'] = (\n",
    "    df_projetos['qdt_empregos_gerados'] / df_projetos['valor_total_investimento']\n",
    ") * 1_000_000\n",
    "\n",
    "# Arredonda para 2 casas decimais para limpeza\n",
    "df_projetos['empregos_por_milhao_brl'] = df_projetos['empregos_por_milhao_brl'].round(2)\n",
    "\n",
    "print(\"Métrica de eficiência 'empregos_por_milhao_brl' criada.\")\n",
    "print(df_projetos[['id_unico', 'valor_total_investimento', 'qdt_empregos_gerados', 'empregos_por_milhao_brl']].head())"
   ]
  },
  {
   "cell_type": "markdown",
   "id": "80a4430e",
   "metadata": {},
   "source": [
    "### 7.4. Categorização (Binning) de Status e Valor\n",
    "\n",
    "Para facilitar a criação de filtros e agregações em dashboards (BI), vamos criar categorias de alto nível a partir de colunas contínuas ou muito detalhadas.\n",
    "\n",
    "1.  **`status_agrupado`**: Agrupa as 10+ `situacao` únicas em grupos lógicos (ex: '1. Planejamento', '2. Execução', '3. Problema').\n",
    "2.  **`faixa_valor`**: Converte a coluna numérica contínua `valor_total_investimento` em \"caixas\" (bins) categóricas (ex: 'Pequeno', 'Médio', 'Grande', 'Megaprojeto').\n",
    "\n",
    "Isso nos permite responder perguntas como \"Quantos projetos em 'Problema' são 'Megaprojetos'?\" de forma muito mais direta. "
   ]
  },
  {
   "cell_type": "code",
   "execution_count": 102,
   "id": "246c82c7",
   "metadata": {},
   "outputs": [
    {
     "name": "stdout",
     "output_type": "stream",
     "text": [
      "Features categóricas 'status_agrupado' e 'faixa_valor' criadas.\n",
      "      id_unico    situacao  status_agrupado  valor_total_investimento  \\\n",
      "0  50379.53-54  Cadastrada  1. Planejamento               44463443.00   \n",
      "1  42724.53-27   Cancelada         5. Outro               12319519.51   \n",
      "2  19970.53-78  Cadastrada  1. Planejamento                1177429.91   \n",
      "3  24797.53-15  Cadastrada  1. Planejamento               10800000.00   \n",
      "4  24822.53-70  Cadastrada  1. Planejamento                 928139.70   \n",
      "\n",
      "         faixa_valor  \n",
      "0  2. Médio (1M-50M)  \n",
      "1  2. Médio (1M-50M)  \n",
      "2  2. Médio (1M-50M)  \n",
      "3  2. Médio (1M-50M)  \n",
      "4  1. Pequeno (< 1M)  \n"
     ]
    }
   ],
   "source": [
    "# 1. Agrupamento da Situação (Status de Alto Nível) \n",
    "mapa_status = {\n",
    "    'Cadastrada': '1. Planejamento',\n",
    "    'Em Licitação': '1. Planejamento',\n",
    "    'Licitação Suspensa': '3. Problema',\n",
    "    'Em Contratação': '1. Planejamento',\n",
    "    'Em Obras': '2. Execução',\n",
    "    'Em Execução': '2. Execução',\n",
    "    'Concluído': '4. Finalizado',\n",
    "    'Concluído Parcialmente': '4. Finalizado',\n",
    "    'Paralisado': '3. Problema',\n",
    "    'Cancelado': '3. Problema'\n",
    "}\n",
    "# .get(s, 'Outro') lida com qualquer status que não esteja no mapa (no caso nn tem nenhum. boa pratica)\n",
    "df_projetos['status_agrupado'] = df_projetos['situacao'].apply(lambda s: mapa_status.get(s, '5. Outro'))\n",
    "\n",
    "\n",
    "# 2. Criação de Faixas de Valor (Binning) \n",
    "# Define os \"cortes\" (em R$) e os nomes das faixas\n",
    "bins = [\n",
    "    0, \n",
    "    1_000_000,        # 1 Milhão\n",
    "    50_000_000,       # 50 Milhões\n",
    "    500_000_000,      # 500 Milhões\n",
    "    np.inf            # infinito (qualquer valor acima)\n",
    "]\n",
    "labels = [\n",
    "    '1. Pequeno (< 1M)', \n",
    "    '2. Médio (1M-50M)', \n",
    "    '3. Grande (50M-500M)', \n",
    "    '4. Megaprojeto (> 500M)'\n",
    "]\n",
    "\n",
    "df_projetos['faixa_valor'] = pd.cut(\n",
    "    df_projetos['valor_total_investimento'], \n",
    "    bins=bins, \n",
    "    labels=labels, \n",
    "    right=False # (inclui o valor inicial, ex: 0 a 999.999)\n",
    ")\n",
    "\n",
    "print(\"Features categóricas 'status_agrupado' e 'faixa_valor' criadas.\")\n",
    "print(df_projetos[['id_unico', 'situacao', 'status_agrupado', 'valor_total_investimento', 'faixa_valor']].head())"
   ]
  },
  {
   "cell_type": "code",
   "execution_count": 103,
   "id": "c1d85673",
   "metadata": {},
   "outputs": [
    {
     "name": "stdout",
     "output_type": "stream",
     "text": [
      "<class 'pandas.core.frame.DataFrame'>\n",
      "RangeIndex: 683 entries, 0 to 682\n",
      "Data columns (total 34 columns):\n",
      " #   Column                                  Non-Null Count  Dtype         \n",
      "---  ------                                  --------------  -----         \n",
      " 0   id_unico                                683 non-null    string        \n",
      " 1   nome                                    683 non-null    string        \n",
      " 2   cep                                     329 non-null    string        \n",
      " 3   endereco                                361 non-null    string        \n",
      " 4   descricao                               683 non-null    string        \n",
      " 5   funcao_social                           683 non-null    string        \n",
      " 6   meta_global                             683 non-null    string        \n",
      " 7   data_inicial_prevista                   681 non-null    datetime64[ns]\n",
      " 8   data_final_prevista                     681 non-null    datetime64[ns]\n",
      " 9   data_inicial_efetiva                    22 non-null     datetime64[ns]\n",
      " 10  data_final_efetiva                      4 non-null      datetime64[ns]\n",
      " 11  data_cadastro                           683 non-null    datetime64[ns]\n",
      " 12  especie                                 680 non-null    string        \n",
      " 13  natureza                                683 non-null    string        \n",
      " 14  natureza_outras                         179 non-null    string        \n",
      " 15  situacao                                683 non-null    string        \n",
      " 16  desc_plano_nacional_politica_vinculado  234 non-null    string        \n",
      " 17  uf                                      683 non-null    string        \n",
      " 18  qdt_empregos_gerados                    28 non-null     float64       \n",
      " 19  desc_populacao_beneficiada              132 non-null    string        \n",
      " 20  populacao_beneficiada                   28 non-null     float64       \n",
      " 21  observacoes_pertinentes                 101 non-null    string        \n",
      " 22  is_modelada_por_bim                     481 non-null    boolean       \n",
      " 23  data_situacao                           683 non-null    datetime64[ns]\n",
      " 24  duracao_prevista_dias                   681 non-null    float64       \n",
      " 25  duracao_efetiva_dias                    1 non-null      float64       \n",
      " 26  atraso_inicio_dias                      22 non-null     float64       \n",
      " 27  ano_inicio_previsto                     681 non-null    float64       \n",
      " 28  mes_inicio_previsto                     681 non-null    float64       \n",
      " 29  trimestre_cadastro                      683 non-null    int32         \n",
      " 30  valor_total_investimento                682 non-null    float64       \n",
      " 31  empregos_por_milhao_brl                 28 non-null     float64       \n",
      " 32  status_agrupado                         683 non-null    object        \n",
      " 33  faixa_valor                             682 non-null    category      \n",
      "dtypes: boolean(1), category(1), datetime64[ns](6), float64(9), int32(1), object(1), string(15)\n",
      "memory usage: 170.4+ KB\n"
     ]
    }
   ],
   "source": [
    "df_projetos.info()"
   ]
  },
  {
   "cell_type": "markdown",
   "id": "816366b5",
   "metadata": {},
   "source": [
    "## 8. Salvando saída processada\n",
    "Salvamos o resultado em `data/processed/` em Parquet por ser **compacto** e, especialmente, **preserva tipos**."
   ]
  },
  {
   "cell_type": "code",
   "execution_count": 104,
   "id": "e08096f7",
   "metadata": {},
   "outputs": [],
   "source": [
    "df_projetos.to_parquet(\n",
    "    str(PROCESSED_DIR) + '/dados_projetos_limpos.parquet', \n",
    "    engine='pyarrow',\n",
    "    index=False\n",
    ")\n",
    "df_executores.to_parquet(\n",
    "    str(PROCESSED_DIR) + '/dados_executores_limpos.parquet', \n",
    "    engine='pyarrow',\n",
    "    index=False\n",
    ")\n",
    "df_eixos.to_parquet(\n",
    "    str(PROCESSED_DIR) + '/dados_eixos_limpos.parquet', \n",
    "    engine='pyarrow',\n",
    "    index=False\n",
    ")\n",
    "df_subtipos.to_parquet(\n",
    "    str(PROCESSED_DIR) + '/dados_subtipos_limpos.parquet', \n",
    "    engine='pyarrow',\n",
    "    index=False\n",
    ")\n",
    "df_fontes_recurso.to_parquet(\n",
    "    str(PROCESSED_DIR) + '/dados_fontes_recurso_limpos.parquet', \n",
    "    engine='pyarrow',\n",
    "    index=False\n",
    ")\n"
   ]
  },
  {
   "cell_type": "markdown",
   "id": "3e2792f0",
   "metadata": {},
   "source": [
    "### Observações finais\n",
    "- Ajustes adicionais (imputação, encoding categórico, feature engineering) devem ser feitos em notebooks posteriores com base nas necessidades da análise.\n",
    "- Mantido um arquivo Parquet que preserva tipos e é eficiente para cargas futuras."
   ]
  }
 ],
 "metadata": {
  "kernelspec": {
   "display_name": "venv",
   "language": "python",
   "name": "python3"
  },
  "language_info": {
   "codemirror_mode": {
    "name": "ipython",
    "version": 3
   },
   "file_extension": ".py",
   "mimetype": "text/x-python",
   "name": "python",
   "nbconvert_exporter": "python",
   "pygments_lexer": "ipython3",
   "version": "3.13.8"
  }
 },
 "nbformat": 4,
 "nbformat_minor": 5
}
