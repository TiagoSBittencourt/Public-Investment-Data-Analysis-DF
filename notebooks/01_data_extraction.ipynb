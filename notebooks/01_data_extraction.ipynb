{
 "cells": [
  {
   "cell_type": "markdown",
   "id": "1212aa50",
   "metadata": {},
   "source": [
    "# 01_data_extraction.ipynb — Extração de Dados (ObrasGov)\n",
    "\n",
    "## 1. Sobre\n",
    "\n",
    "Este notebook realiza a extração dos dados a partir da API pública da plataforma ObrasGov. A plataforma oferece informações detalhadas sobre projetos de investimento em infraestrutura do governo federal, incluindo: dados do projeto, georreferenciamento, execução física e execução financeira.\n",
    "\n",
    "Neste projeto usamos especificamente o endpoint `/projeto-investimento` filtrado por UF (neste caso, `DF`) para construir uma base local de obras que será normalizada e carregada em um banco de dados posteriormente.\n",
    "\n",
    "O notebook está organizado em blocos didáticos: imports e ambiente, definição de parâmetros, execução da extração com paginação e tratamento de erros (incluindo backoff para 429), e armazenamento dos artefatos RAW (dados e metadados)."
   ]
  },
  {
   "cell_type": "code",
   "execution_count": 13,
   "id": "63530951",
   "metadata": {},
   "outputs": [
    {
     "data": {
      "text/plain": [
       "True"
      ]
     },
     "execution_count": 13,
     "metadata": {},
     "output_type": "execute_result"
    }
   ],
   "source": [
    "import os\n",
    "import sys\n",
    "import pandas as pd\n",
    "import json\n",
    "from dotenv import load_dotenv\n",
    "import matplotlib.pyplot as plt\n",
    "import seaborn as sns\n",
    "\n",
    "# Adiciona a pasta raiz do projeto ao sys.path\n",
    "project_root = os.path.abspath(os.path.join(os.getcwd(), '..'))\n",
    "if project_root not in sys.path:\n",
    "    sys.path.append(project_root)\n",
    "\n",
    "# Classe para extração de dados via API (desenvolvida em src/extractors/api_extractor.py)\n",
    "from src.extractors.api_extractor import ExtratorAPI\n",
    "\n",
    "# Carrega as variáveis do arquivo .env para o ambiente\n",
    "load_dotenv()"
   ]
  },
  {
   "cell_type": "markdown",
   "id": "dbef3974",
   "metadata": {},
   "source": [
    "## Variáveis de ambiente e credenciais\n",
    "\n",
    "Carregamos variáveis do arquivo `.env` quando necessário. Isso mantém credenciais e configurações fora do código-fonte. A célula seguinte chama `load_dotenv()` — garanta que exista um arquivo `.env` na raiz do projeto com as chaves necessárias quando executar localmente.\n",
    "\n",
    "Em ambientes de CI/CD ou produção, injete variáveis de ambiente usando o mecanismo seguro da plataforma (secrets, variables) em vez de comitar um arquivo `.env`."
   ]
  },
  {
   "cell_type": "code",
   "execution_count": 5,
   "id": "c1b138c3",
   "metadata": {},
   "outputs": [
    {
     "data": {
      "text/plain": [
       "True"
      ]
     },
     "execution_count": 5,
     "metadata": {},
     "output_type": "execute_result"
    }
   ],
   "source": [
    "# Carrega as variáveis do arquivo .env para o ambiente\n",
    "# (se não houver .env a chamada é segura; load_dotenv apenas registra o que encontra)\n",
    "load_dotenv()"
   ]
  },
  {
   "cell_type": "markdown",
   "id": "098a2cec",
   "metadata": {},
   "source": [
    "## 2. Endpoint da API\n",
    "\n",
    "### 2.1 Sobre\n",
    "\n",
    "A API ObrasGov expõe o endpoint `/projeto-investimento` que retorna uma lista paginada de projetos. Para este projeto definimos a URL base e usaremos parâmetros de consulta para filtrar (UF), controlar paginação e ordenação.\n",
    "\n",
    "Para a acessar a documentação oficial da API acesse: https://api.obrasgov.gestao.gov.br/obrasgov/api/swagger-ui/index.html"
   ]
  },
  {
   "cell_type": "code",
   "execution_count": 6,
   "id": "56979c87",
   "metadata": {},
   "outputs": [],
   "source": [
    "# URL da API de projetos de investimento do ObrasGov\n",
    "URL_API = \"https://api.obrasgov.gestao.gov.br/obrasgov/api/projeto-investimento\""
   ]
  },
  {
   "cell_type": "markdown",
   "id": "31b29888",
   "metadata": {},
   "source": [
    "### 2.2 Parâmetros da requisição e paginação\n",
    "\n",
    "A constante `PARAMS` define filtros (por exemplo `uf='DF'`), paginação (`pagina`, 100) e ordenação (`ordenacao`, `ID_UNICO`). A seguir estão os pontos práticos sobre paginação e tratamento de erros: \n",
    "\n",
    "- O **endpoint é paginado** -> para extrair tudo é necessário iterar sobre as páginas e concatenar `content`.\n",
    "- Implementado **backoff incremental** para lidar com `429 Too Many Requests`. No exemplo de execução usado no repositório, um aumento de espera conforme o número de tentativas foi aplicado (e.g., 30s, 60s, 90s).\n",
    "- Tratamento de erros **5xx e 4xx deve tentar re-tentar** (com limite máximo de tentativas e aplicando politicas de retry/backoff)."
   ]
  },
  {
   "cell_type": "code",
   "execution_count": 7,
   "id": "fa5b992c",
   "metadata": {},
   "outputs": [],
   "source": [
    "# Parametros iniciais\n",
    "PARAMS = {\n",
    "    'uf': 'DF',\n",
    "    'pagina': 0,          \n",
    "    'tamanhoDaPagina': 100,     \n",
    "    'ordenacao': 'ID_UNICO'\n",
    "}"
   ]
  },
  {
   "cell_type": "markdown",
   "id": "63f83452",
   "metadata": {},
   "source": [
    "## 3. Extração dos Dados\n",
    "\n",
    "### 3.1 Instanciando o ExtratorAPI\n",
    "\n",
    "A classe `ExtratorAPI` centraliza a lógica de requisição e paginação. Utilizada como uma abstração para: extrair dados de interesse, metadados, backoff incremental,."
   ]
  },
  {
   "cell_type": "code",
   "execution_count": 8,
   "id": "e59f7ed3",
   "metadata": {},
   "outputs": [],
   "source": [
    "extrator = ExtratorAPI(\n",
    "    url_base=URL_API,\n",
    "    params=PARAMS,\n",
    ")"
   ]
  },
  {
   "cell_type": "markdown",
   "id": "1d866a4e",
   "metadata": {},
   "source": [
    "### 3.2 Execução da extração e salvamento (com mensagens de progresso)\n",
    "\n",
    "A execução agrupa três responsabilidades principais:   \n",
    "1) coletar `content` de cada página e concatenar no array `db_total`,   \n",
    "2) armazenar metadados da página (headers, totalElements etc.) em `db_metadados`, e   \n",
    "3) aplicar políticas de retry/backoff quando a API retorna 429 ou erros 5xx.  \n",
    "\n",
    "O trecho de log exemplar a seguir mostra uma extração real com paginação e backoff incremental para 429: \n"
   ]
  },
  {
   "cell_type": "code",
   "execution_count": 9,
   "id": "6847de49",
   "metadata": {},
   "outputs": [
    {
     "name": "stderr",
     "output_type": "stream",
     "text": [
      "2025-10-17 02:05:38 - INFO - Iniciando extração da API em 'https://api.obrasgov.gestao.gov.br/obrasgov/api/projeto-investimento'\n"
     ]
    },
    {
     "data": {
      "application/vnd.jupyter.widget-view+json": {
       "model_id": "7efd6dc95b8545d4b84346f84896bf73",
       "version_major": 2,
       "version_minor": 0
      },
      "text/plain": [
       "Páginas extraídas: 0 pág [00:00, ? pág/s]"
      ]
     },
     "metadata": {},
     "output_type": "display_data"
    },
    {
     "name": "stderr",
     "output_type": "stream",
     "text": [
      "2025-10-17 02:06:04 - INFO - Requisitando URL: https://api.obrasgov.gestao.gov.br/obrasgov/api/projeto-investimento?uf=DF&pagina=0&tamanhoDaPagina=100&ordenacao=ID_UNICO\n",
      "2025-10-17 02:07:00 - INFO - Requisitando URL: https://api.obrasgov.gestao.gov.br/obrasgov/api/projeto-investimento?uf=DF&pagina=1&tamanhoDaPagina=100&ordenacao=ID_UNICO\n",
      "2025-10-17 02:07:00 - INFO - Requisitando URL: https://api.obrasgov.gestao.gov.br/obrasgov/api/projeto-investimento?uf=DF&pagina=1&tamanhoDaPagina=100&ordenacao=ID_UNICO\n",
      "2025-10-17 02:07:56 - INFO - Requisitando URL: https://api.obrasgov.gestao.gov.br/obrasgov/api/projeto-investimento?uf=DF&pagina=2&tamanhoDaPagina=100&ordenacao=ID_UNICO\n",
      "2025-10-17 02:07:56 - INFO - Requisitando URL: https://api.obrasgov.gestao.gov.br/obrasgov/api/projeto-investimento?uf=DF&pagina=2&tamanhoDaPagina=100&ordenacao=ID_UNICO\n",
      "2025-10-17 02:08:52 - INFO - Requisitando URL: https://api.obrasgov.gestao.gov.br/obrasgov/api/projeto-investimento?uf=DF&pagina=3&tamanhoDaPagina=100&ordenacao=ID_UNICO\n",
      "2025-10-17 02:08:52 - INFO - Requisitando URL: https://api.obrasgov.gestao.gov.br/obrasgov/api/projeto-investimento?uf=DF&pagina=3&tamanhoDaPagina=100&ordenacao=ID_UNICO\n",
      "2025-10-17 02:10:08 - INFO - Requisitando URL: https://api.obrasgov.gestao.gov.br/obrasgov/api/projeto-investimento?uf=DF&pagina=4&tamanhoDaPagina=100&ordenacao=ID_UNICO\n",
      "2025-10-17 02:10:08 - INFO - Requisitando URL: https://api.obrasgov.gestao.gov.br/obrasgov/api/projeto-investimento?uf=DF&pagina=4&tamanhoDaPagina=100&ordenacao=ID_UNICO\n",
      "2025-10-17 02:11:04 - INFO - Requisitando URL: https://api.obrasgov.gestao.gov.br/obrasgov/api/projeto-investimento?uf=DF&pagina=5&tamanhoDaPagina=100&ordenacao=ID_UNICO\n",
      "2025-10-17 02:11:04 - INFO - Requisitando URL: https://api.obrasgov.gestao.gov.br/obrasgov/api/projeto-investimento?uf=DF&pagina=5&tamanhoDaPagina=100&ordenacao=ID_UNICO\n",
      "2025-10-17 02:12:01 - INFO - Requisitando URL: https://api.obrasgov.gestao.gov.br/obrasgov/api/projeto-investimento?uf=DF&pagina=6&tamanhoDaPagina=100&ordenacao=ID_UNICO\n",
      "2025-10-17 02:12:01 - INFO - Requisitando URL: https://api.obrasgov.gestao.gov.br/obrasgov/api/projeto-investimento?uf=DF&pagina=6&tamanhoDaPagina=100&ordenacao=ID_UNICO\n",
      "2025-10-17 02:12:57 - INFO - Requisitando URL: https://api.obrasgov.gestao.gov.br/obrasgov/api/projeto-investimento?uf=DF&pagina=7&tamanhoDaPagina=100&ordenacao=ID_UNICO\n",
      "2025-10-17 02:12:57 - INFO - Requisitando URL: https://api.obrasgov.gestao.gov.br/obrasgov/api/projeto-investimento?uf=DF&pagina=7&tamanhoDaPagina=100&ordenacao=ID_UNICO\n",
      "2025-10-17 02:13:36 - INFO - Requisitando URL: https://api.obrasgov.gestao.gov.br/obrasgov/api/projeto-investimento?uf=DF&pagina=8&tamanhoDaPagina=100&ordenacao=ID_UNICO\n",
      "2025-10-17 02:13:36 - INFO - Requisitando URL: https://api.obrasgov.gestao.gov.br/obrasgov/api/projeto-investimento?uf=DF&pagina=8&tamanhoDaPagina=100&ordenacao=ID_UNICO\n",
      "2025-10-17 02:14:07 - INFO - Requisitando URL: https://api.obrasgov.gestao.gov.br/obrasgov/api/projeto-investimento?uf=DF&pagina=9&tamanhoDaPagina=100&ordenacao=ID_UNICO\n",
      "2025-10-17 02:14:07 - INFO - Nenhum dado encontrado na página 9. Extração concluída.\n",
      "2025-10-17 02:14:07 - INFO - --- Resumo da Extração ---\n",
      "2025-10-17 02:14:07 - INFO - Total de registros coletados: 834\n",
      "2025-10-17 02:14:07 - INFO - Total de páginas de metadados salvas: 10\n",
      "2025-10-17 02:14:07 - INFO - Requisitando URL: https://api.obrasgov.gestao.gov.br/obrasgov/api/projeto-investimento?uf=DF&pagina=9&tamanhoDaPagina=100&ordenacao=ID_UNICO\n",
      "2025-10-17 02:14:07 - INFO - Nenhum dado encontrado na página 9. Extração concluída.\n",
      "2025-10-17 02:14:07 - INFO - --- Resumo da Extração ---\n",
      "2025-10-17 02:14:07 - INFO - Total de registros coletados: 834\n",
      "2025-10-17 02:14:07 - INFO - Total de páginas de metadados salvas: 10\n"
     ]
    },
    {
     "name": "stdout",
     "output_type": "stream",
     "text": [
      "\n",
      "Dados salvos com sucesso em formato JSON: ../data/raw/dados_obras_gov.json\n",
      "Total de registros salvos: 834\n"
     ]
    }
   ],
   "source": [
    "try:\n",
    "    # O método 'executar_extracao' cuida de todo o processo\n",
    "    data, metadata = extrator.executar_extracao()\n",
    "    \n",
    "    if data:\n",
    "        \n",
    "        out_dir = '../data/raw/dados_obras_gov.json'\n",
    "        \n",
    "        # Garante que o diretório de saída exista\n",
    "        os.makedirs(os.path.dirname(out_dir), exist_ok=True)\n",
    "        \n",
    "        # Abre o arquivo em modo de escrita ('w') com codificação UTF-8\n",
    "        with open(out_dir, 'w', encoding='utf-8') as f:\n",
    "            json.dump(data, f, ensure_ascii=False, indent=4)\n",
    "        \n",
    "        print(f\"\\nDados salvos com sucesso em formato JSON: {out_dir}\")\n",
    "        print(f\"Total de registros salvos: {len(data)}\")\n",
    "    else:\n",
    "        print(\"\\nNenhum dado foi coletado para salvar.\")\n",
    "\n",
    "except Exception as e:\n",
    "    print(f\"\\nO processo de extração falhou: {e}\")"
   ]
  },
  {
   "cell_type": "code",
   "execution_count": 10,
   "id": "7acf41f0",
   "metadata": {},
   "outputs": [
    {
     "name": "stdout",
     "output_type": "stream",
     "text": [
      "       idUnico                                               nome         cep  \\\n",
      "0  50379.53-54  DL - 304/2024 - Contratação de instituição par...        None   \n",
      "1  42724.53-27                  Escola Classe Crixá São Sebastião        None   \n",
      "2  19970.53-78  Reajuste do Contrato 45/2021 - Contrução do Ce...  70.602-600   \n",
      "3  24797.53-15  Implantação de Passarelas nas Estradas Parque ...        None   \n",
      "4  24822.53-70  obra de construção da  Cabine de Medição, loca...        None   \n",
      "\n",
      "                                   endereco  \\\n",
      "0                                      None   \n",
      "1                                      None   \n",
      "2  SAIS Área Especial 3, Setor Policial Sul   \n",
      "3                                      None   \n",
      "4                                      None   \n",
      "\n",
      "                                           descricao  \\\n",
      "0  Contratação de instituição para execução de se...   \n",
      "1  Construção de Escola em Tempo Integral, Escola...   \n",
      "2  Reajuste do Contrato 45/2021 - Construção do C...   \n",
      "3  Implantação de passarelas de estrutura mista n...   \n",
      "4  obra de construção da  Cabine de Medição, loca...   \n",
      "\n",
      "                                        funcaoSocial  \\\n",
      "0  Ampliação da capacidade de trafego visando a m...   \n",
      "1  A construção da nova escola beneficiará 977 es...   \n",
      "2  Contribuir para a melhor formação dos bombeiro...   \n",
      "3  Pedestres, no geral, demanda das ocupações lin...   \n",
      "4  A demanda de carga elétrica do Campus Darcy Ri...   \n",
      "\n",
      "                                          metaGlobal dataInicialPrevista  \\\n",
      "0        Projetos Básicos e Executivos de Engenharia          2024-12-20   \n",
      "1  Construção de Escola em Tempo Integral, Escola...          2024-09-02   \n",
      "2  Construção de um novo centro de formação e de ...          2021-09-14   \n",
      "3  Implantação de passarelas de estrutura mista n...          2023-08-30   \n",
      "4  A demanda de carga elétrica do Campus Darcy Ri...          2023-09-14   \n",
      "\n",
      "  dataFinalPrevista dataInicialEfetiva  ... observacoesPertinentes  \\\n",
      "0        2027-12-05               None  ...                   None   \n",
      "1        2028-09-02               None  ...                   None   \n",
      "2        2024-08-28               None  ...                   None   \n",
      "3        2028-08-30               None  ...                   None   \n",
      "4        2024-03-14               None  ...                   None   \n",
      "\n",
      "  isModeladaPorBim dataSituacao tomadores  \\\n",
      "0            False   2024-12-20        []   \n",
      "1            False   2025-09-05        []   \n",
      "2            False   2023-02-06        []   \n",
      "3            False   2023-08-28        []   \n",
      "4            False   2023-08-29        []   \n",
      "\n",
      "                                          executores  \\\n",
      "0  [{'nome': 'DEPARTAMENTO NACIONAL DE INFRAESTRU...   \n",
      "1  [{'nome': 'SECRETARIA DE ESTADO DE EDUCACAO DO...   \n",
      "2  [{'nome': 'CORPO DE BOMBEIROS MILITAR DO DISTR...   \n",
      "3  [{'nome': 'DEPARTAMENTO DE ESTRADAS DE RODAGEM...   \n",
      "4  [{'nome': 'FUNDACAO UNIVERSIDADE DE BRASILIA',...   \n",
      "\n",
      "                                        repassadores  \\\n",
      "0                                                 []   \n",
      "1  [{'nome': 'FUNDO NACIONAL DE DESENVOLVIMENTO D...   \n",
      "2  [{'nome': 'CORPO DE BOMBEIROS MILITAR DO DISTR...   \n",
      "3  [{'nome': 'MINISTÉRIO DAS CIDADES', 'codigo': ...   \n",
      "4  [{'nome': 'FUNDACAO UNIVERSIDADE DE BRASILIA',...   \n",
      "\n",
      "                                               eixos  \\\n",
      "0              [{'id': 3, 'descricao': 'Econômico'}]   \n",
      "1                 [{'id': 4, 'descricao': 'Social'}]   \n",
      "2         [{'id': 1, 'descricao': 'Administrativo'}]   \n",
      "3              [{'id': 3, 'descricao': 'Econômico'}]   \n",
      "4  [{'id': 3, 'descricao': 'Econômico'}, {'id': 3...   \n",
      "\n",
      "                                               tipos  \\\n",
      "0  [{'id': 25, 'descricao': 'Rodovia', 'idEixo': 3}]   \n",
      "1  [{'id': 46, 'descricao': 'Educação', 'idEixo':...   \n",
      "2  [{'id': 1, 'descricao': 'Segurança Pública', '...   \n",
      "3  [{'id': 24, 'descricao': 'Infraestrutura Urban...   \n",
      "4  [{'id': 31, 'descricao': 'Energia', 'idEixo': ...   \n",
      "\n",
      "                                            subTipos  \\\n",
      "0  [{'id': 4, 'descricao': 'Acessos Terrestres', ...   \n",
      "1  [{'id': 84, 'descricao': 'Educação', 'idTipo':...   \n",
      "2  [{'id': 59, 'descricao': 'Obras em Imóveis de ...   \n",
      "3  [{'id': 57, 'descricao': 'Obra de Arte Especia...   \n",
      "4  [{'id': 95, 'descricao': 'Subestação', 'idTipo...   \n",
      "\n",
      "                                     fontesDeRecurso  \n",
      "0  [{'origem': 'Federal', 'valorInvestimentoPrevi...  \n",
      "1  [{'origem': 'Federal', 'valorInvestimentoPrevi...  \n",
      "2  [{'origem': 'Federal', 'valorInvestimentoPrevi...  \n",
      "3  [{'origem': 'Federal', 'valorInvestimentoPrevi...  \n",
      "4  [{'origem': 'Federal', 'valorInvestimentoPrevi...  \n",
      "\n",
      "[5 rows x 31 columns]\n",
      "Total de registros:  834\n"
     ]
    }
   ],
   "source": [
    "# Transformando tudo em DataFrame\n",
    "df = pd.json_normalize(data)\n",
    "print(df.head())\n",
    "print(\"Total de registros: \", len(df))"
   ]
  },
  {
   "cell_type": "markdown",
   "id": "8283f4da",
   "metadata": {},
   "source": [
    "## 4. Visualização\n",
    "\n",
    "### 4.1 Visualização Inicial\n",
    "\n",
    "Utilizandos os métodos `describe()` e `info()` para analise inicial dos dados extraidos."
   ]
  },
  {
   "cell_type": "code",
   "execution_count": 11,
   "id": "466c460b",
   "metadata": {},
   "outputs": [
    {
     "data": {
      "text/html": [
       "<div>\n",
       "<style scoped>\n",
       "    .dataframe tbody tr th:only-of-type {\n",
       "        vertical-align: middle;\n",
       "    }\n",
       "\n",
       "    .dataframe tbody tr th {\n",
       "        vertical-align: top;\n",
       "    }\n",
       "\n",
       "    .dataframe thead th {\n",
       "        text-align: right;\n",
       "    }\n",
       "</style>\n",
       "<table border=\"1\" class=\"dataframe\">\n",
       "  <thead>\n",
       "    <tr style=\"text-align: right;\">\n",
       "      <th></th>\n",
       "      <th>idUnico</th>\n",
       "      <th>nome</th>\n",
       "      <th>cep</th>\n",
       "      <th>endereco</th>\n",
       "      <th>descricao</th>\n",
       "      <th>funcaoSocial</th>\n",
       "      <th>metaGlobal</th>\n",
       "      <th>dataInicialPrevista</th>\n",
       "      <th>dataFinalPrevista</th>\n",
       "      <th>dataInicialEfetiva</th>\n",
       "      <th>...</th>\n",
       "      <th>observacoesPertinentes</th>\n",
       "      <th>isModeladaPorBim</th>\n",
       "      <th>dataSituacao</th>\n",
       "      <th>tomadores</th>\n",
       "      <th>executores</th>\n",
       "      <th>repassadores</th>\n",
       "      <th>eixos</th>\n",
       "      <th>tipos</th>\n",
       "      <th>subTipos</th>\n",
       "      <th>fontesDeRecurso</th>\n",
       "    </tr>\n",
       "  </thead>\n",
       "  <tbody>\n",
       "    <tr>\n",
       "      <th>count</th>\n",
       "      <td>834</td>\n",
       "      <td>834</td>\n",
       "      <td>395</td>\n",
       "      <td>431</td>\n",
       "      <td>834</td>\n",
       "      <td>834</td>\n",
       "      <td>834</td>\n",
       "      <td>831</td>\n",
       "      <td>831</td>\n",
       "      <td>27</td>\n",
       "      <td>...</td>\n",
       "      <td>119</td>\n",
       "      <td>592</td>\n",
       "      <td>834</td>\n",
       "      <td>834</td>\n",
       "      <td>834</td>\n",
       "      <td>834</td>\n",
       "      <td>834</td>\n",
       "      <td>834</td>\n",
       "      <td>834</td>\n",
       "      <td>834</td>\n",
       "    </tr>\n",
       "    <tr>\n",
       "      <th>unique</th>\n",
       "      <td>683</td>\n",
       "      <td>640</td>\n",
       "      <td>93</td>\n",
       "      <td>242</td>\n",
       "      <td>629</td>\n",
       "      <td>508</td>\n",
       "      <td>466</td>\n",
       "      <td>413</td>\n",
       "      <td>456</td>\n",
       "      <td>12</td>\n",
       "      <td>...</td>\n",
       "      <td>3</td>\n",
       "      <td>2</td>\n",
       "      <td>365</td>\n",
       "      <td>51</td>\n",
       "      <td>82</td>\n",
       "      <td>52</td>\n",
       "      <td>15</td>\n",
       "      <td>51</td>\n",
       "      <td>84</td>\n",
       "      <td>512</td>\n",
       "    </tr>\n",
       "    <tr>\n",
       "      <th>top</th>\n",
       "      <td>31061.53-30</td>\n",
       "      <td>CONSTRUÇÃO DE UNIDADE BÁSICA DE SAÚDE</td>\n",
       "      <td>1</td>\n",
       "      <td></td>\n",
       "      <td>CONSTRUÇÃO DE UNIDADE BÁSICA DE SAÚDE</td>\n",
       "      <td>Segurança Pública</td>\n",
       "      <td>Escola de Educação Infantil Tipo B</td>\n",
       "      <td>2025-06-01</td>\n",
       "      <td>2027-06-01</td>\n",
       "      <td>2018-07-09</td>\n",
       "      <td>...</td>\n",
       "      <td>Informações Obras Fundo Nacional de Desenvolvi...</td>\n",
       "      <td>False</td>\n",
       "      <td>2025-07-25</td>\n",
       "      <td>[]</td>\n",
       "      <td>[{'nome': 'FUNDO NACIONAL DE DESENVOLVIMENTO D...</td>\n",
       "      <td>[]</td>\n",
       "      <td>[{'id': 1, 'descricao': 'Administrativo'}]</td>\n",
       "      <td>[{'id': 5, 'descricao': 'Administrativo', 'idE...</td>\n",
       "      <td>[{'id': 36, 'descricao': 'Dragagem, Derrocamen...</td>\n",
       "      <td>[{'origem': 'Federal', 'valorInvestimentoPrevi...</td>\n",
       "    </tr>\n",
       "    <tr>\n",
       "      <th>freq</th>\n",
       "      <td>3</td>\n",
       "      <td>10</td>\n",
       "      <td>82</td>\n",
       "      <td>58</td>\n",
       "      <td>10</td>\n",
       "      <td>37</td>\n",
       "      <td>52</td>\n",
       "      <td>50</td>\n",
       "      <td>48</td>\n",
       "      <td>9</td>\n",
       "      <td>...</td>\n",
       "      <td>116</td>\n",
       "      <td>559</td>\n",
       "      <td>90</td>\n",
       "      <td>484</td>\n",
       "      <td>117</td>\n",
       "      <td>390</td>\n",
       "      <td>324</td>\n",
       "      <td>125</td>\n",
       "      <td>116</td>\n",
       "      <td>131</td>\n",
       "    </tr>\n",
       "  </tbody>\n",
       "</table>\n",
       "<p>4 rows × 31 columns</p>\n",
       "</div>"
      ],
      "text/plain": [
       "            idUnico                                   nome  cep endereco  \\\n",
       "count           834                                    834  395      431   \n",
       "unique          683                                    640   93      242   \n",
       "top     31061.53-30  CONSTRUÇÃO DE UNIDADE BÁSICA DE SAÚDE    1            \n",
       "freq              3                                     10   82       58   \n",
       "\n",
       "                                    descricao       funcaoSocial  \\\n",
       "count                                     834                834   \n",
       "unique                                    629                508   \n",
       "top     CONSTRUÇÃO DE UNIDADE BÁSICA DE SAÚDE  Segurança Pública   \n",
       "freq                                       10                 37   \n",
       "\n",
       "                                metaGlobal dataInicialPrevista  \\\n",
       "count                                  834                 831   \n",
       "unique                                 466                 413   \n",
       "top     Escola de Educação Infantil Tipo B          2025-06-01   \n",
       "freq                                    52                  50   \n",
       "\n",
       "       dataFinalPrevista dataInicialEfetiva  ...  \\\n",
       "count                831                 27  ...   \n",
       "unique               456                 12  ...   \n",
       "top           2027-06-01         2018-07-09  ...   \n",
       "freq                  48                  9  ...   \n",
       "\n",
       "                                   observacoesPertinentes isModeladaPorBim  \\\n",
       "count                                                 119              592   \n",
       "unique                                                  3                2   \n",
       "top     Informações Obras Fundo Nacional de Desenvolvi...            False   \n",
       "freq                                                  116              559   \n",
       "\n",
       "       dataSituacao tomadores  \\\n",
       "count           834       834   \n",
       "unique          365        51   \n",
       "top      2025-07-25        []   \n",
       "freq             90       484   \n",
       "\n",
       "                                               executores repassadores  \\\n",
       "count                                                 834          834   \n",
       "unique                                                 82           52   \n",
       "top     [{'nome': 'FUNDO NACIONAL DE DESENVOLVIMENTO D...           []   \n",
       "freq                                                  117          390   \n",
       "\n",
       "                                             eixos  \\\n",
       "count                                          834   \n",
       "unique                                          15   \n",
       "top     [{'id': 1, 'descricao': 'Administrativo'}]   \n",
       "freq                                           324   \n",
       "\n",
       "                                                    tipos  \\\n",
       "count                                                 834   \n",
       "unique                                                 51   \n",
       "top     [{'id': 5, 'descricao': 'Administrativo', 'idE...   \n",
       "freq                                                  125   \n",
       "\n",
       "                                                 subTipos  \\\n",
       "count                                                 834   \n",
       "unique                                                 84   \n",
       "top     [{'id': 36, 'descricao': 'Dragagem, Derrocamen...   \n",
       "freq                                                  116   \n",
       "\n",
       "                                          fontesDeRecurso  \n",
       "count                                                 834  \n",
       "unique                                                512  \n",
       "top     [{'origem': 'Federal', 'valorInvestimentoPrevi...  \n",
       "freq                                                  131  \n",
       "\n",
       "[4 rows x 31 columns]"
      ]
     },
     "execution_count": 11,
     "metadata": {},
     "output_type": "execute_result"
    }
   ],
   "source": [
    "df.describe()"
   ]
  },
  {
   "cell_type": "code",
   "execution_count": 12,
   "id": "da084f23",
   "metadata": {},
   "outputs": [
    {
     "name": "stdout",
     "output_type": "stream",
     "text": [
      "<class 'pandas.core.frame.DataFrame'>\n",
      "RangeIndex: 834 entries, 0 to 833\n",
      "Data columns (total 31 columns):\n",
      " #   Column                              Non-Null Count  Dtype \n",
      "---  ------                              --------------  ----- \n",
      " 0   idUnico                             834 non-null    object\n",
      " 1   nome                                834 non-null    object\n",
      " 2   cep                                 395 non-null    object\n",
      " 3   endereco                            431 non-null    object\n",
      " 4   descricao                           834 non-null    object\n",
      " 5   funcaoSocial                        834 non-null    object\n",
      " 6   metaGlobal                          834 non-null    object\n",
      " 7   dataInicialPrevista                 831 non-null    object\n",
      " 8   dataFinalPrevista                   831 non-null    object\n",
      " 9   dataInicialEfetiva                  27 non-null     object\n",
      " 10  dataFinalEfetiva                    5 non-null      object\n",
      " 11  dataCadastro                        834 non-null    object\n",
      " 12  especie                             830 non-null    object\n",
      " 13  natureza                            834 non-null    object\n",
      " 14  naturezaOutras                      205 non-null    object\n",
      " 15  situacao                            834 non-null    object\n",
      " 16  descPlanoNacionalPoliticaVinculado  270 non-null    object\n",
      " 17  uf                                  834 non-null    object\n",
      " 18  qdtEmpregosGerados                  150 non-null    object\n",
      " 19  descPopulacaoBeneficiada            155 non-null    object\n",
      " 20  populacaoBeneficiada                152 non-null    object\n",
      " 21  observacoesPertinentes              119 non-null    object\n",
      " 22  isModeladaPorBim                    592 non-null    object\n",
      " 23  dataSituacao                        834 non-null    object\n",
      " 24  tomadores                           834 non-null    object\n",
      " 25  executores                          834 non-null    object\n",
      " 26  repassadores                        834 non-null    object\n",
      " 27  eixos                               834 non-null    object\n",
      " 28  tipos                               834 non-null    object\n",
      " 29  subTipos                            834 non-null    object\n",
      " 30  fontesDeRecurso                     834 non-null    object\n",
      "dtypes: object(31)\n",
      "memory usage: 202.1+ KB\n"
     ]
    }
   ],
   "source": [
    "df.info()"
   ]
  },
  {
   "cell_type": "markdown",
   "id": "203d61aa",
   "metadata": {},
   "source": [
    "### 4.2 Visualização Avançada\n",
    "\n",
    "#### 4.2.1 Visualização de Valores Nulos\n",
    "\n",
    "Essa visualização mostra com clareza a **grande quantidade** de valores `\"nulos\"` (NaN, None, etc) nos dados extraidos da API."
   ]
  },
  {
   "cell_type": "code",
   "execution_count": 15,
   "id": "bb35c233",
   "metadata": {},
   "outputs": [
    {
     "data": {
      "image/png": "[encoded data removed]",
      "text/plain": [
       "<Figure size 1200x1000 with 1 Axes>"
      ]
     },
     "metadata": {},
     "output_type": "display_data"
    }
   ],
   "source": [
    "# 1. Calcula o percentual de nulos para cada coluna\n",
    "percentual_nulos = (df.isnull().sum() / len(df)) * 100\n",
    "\n",
    "# 2. Filtra apenas colunas que de fato têm dados ausentes (para um gráfico mais limpo)\n",
    "percentual_nulos = percentual_nulos[percentual_nulos > 0].sort_values(ascending=False)\n",
    "\n",
    "# 3. Cria a visualização\n",
    "plt.figure(figsize=(12, 10))\n",
    "sns.barplot(\n",
    "    x=percentual_nulos, \n",
    "    hue=percentual_nulos.index, \n",
    "    palette='viridis'\n",
    ")\n",
    "\n",
    "plt.title('Percentual de Dados Ausentes (Nulos) por Coluna (Dados Brutos da API)', fontsize=16)\n",
    "plt.xlabel('Percentual de Nulos (%)', fontsize=12)\n",
    "plt.ylabel('Colunas', fontsize=12)\n",
    "plt.show()"
   ]
  }
 ],
 "metadata": {
  "kernelspec": {
   "display_name": "venv",
   "language": "python",
   "name": "python3"
  },
  "language_info": {
   "codemirror_mode": {
    "name": "ipython",
    "version": 3
   },
   "file_extension": ".py",
   "mimetype": "text/x-python",
   "name": "python",
   "nbconvert_exporter": "python",
   "pygments_lexer": "ipython3",
   "version": "3.13.8"
  }
 },
 "nbformat": 4,
 "nbformat_minor": 5
}
